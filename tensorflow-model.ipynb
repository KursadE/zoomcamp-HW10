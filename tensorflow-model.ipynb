{
 "cells": [
  {
   "cell_type": "code",
   "execution_count": 21,
   "metadata": {},
   "outputs": [],
   "source": [
    "import numpy as np\n",
    "\n",
    "import tensorflow as tf\n",
    "from tensorflow import keras"
   ]
  },
  {
   "cell_type": "code",
   "execution_count": 22,
   "metadata": {},
   "outputs": [],
   "source": [
    "#!wget https://github.com/alexeygrigorev/large-datasets/releases/download/dogs-cats-model/dogs_cats_10_0.687.h5 -O dogs_cats_model.h5"
   ]
  },
  {
   "cell_type": "code",
   "execution_count": 23,
   "metadata": {},
   "outputs": [],
   "source": [
    "model = keras.models.load_model('xception_v1_05_0.975.h5')"
   ]
  },
  {
   "cell_type": "code",
   "execution_count": 24,
   "metadata": {},
   "outputs": [],
   "source": [
    "from io import BytesIO\n",
    "from urllib import request\n",
    "\n",
    "from PIL import Image\n",
    "\n",
    "def download_image(url):\n",
    "    with request.urlopen(url) as resp:\n",
    "        buffer = resp.read()\n",
    "    stream = BytesIO(buffer)\n",
    "    img = Image.open(stream)\n",
    "    return img\n",
    "\n",
    "def prepare_image(img, target_size):\n",
    "    if img.mode != 'RGB':\n",
    "        img = img.convert('RGB')\n",
    "    img = img.resize(target_size, Image.NEAREST)\n",
    "    return img\n",
    "\n",
    "def preprocess_input(x):\n",
    "    x /= 255\n",
    "    return x"
   ]
  },
  {
   "cell_type": "code",
   "execution_count": 25,
   "metadata": {},
   "outputs": [],
   "source": [
    "url = 'https://upload.wikimedia.org/wikipedia/commons/9/9a/Pug_600.jpg'\n",
    "image_size = (256, 256)\n",
    "\n",
    "img = download_image(url)\n",
    "img = prepare_image(img, target_size=image_size)"
   ]
  },
  {
   "cell_type": "code",
   "execution_count": 26,
   "metadata": {},
   "outputs": [
    {
     "data": {
      "text/plain": [
       "array([[[[0.6666667 , 0.73333335, 0.70980394],\n",
       "         [0.5686275 , 0.63529414, 0.6117647 ],\n",
       "         [0.52156866, 0.5882353 , 0.5647059 ],\n",
       "         ...,\n",
       "         [0.6901961 , 0.7490196 , 0.7607843 ],\n",
       "         [0.7254902 , 0.8       , 0.8156863 ],\n",
       "         [0.7058824 , 0.8       , 0.80784315]],\n",
       "\n",
       "        [[0.6392157 , 0.7058824 , 0.68235296],\n",
       "         [0.6313726 , 0.69803923, 0.6745098 ],\n",
       "         [0.69411767, 0.7607843 , 0.7372549 ],\n",
       "         ...,\n",
       "         [0.5647059 , 0.6313726 , 0.60784316],\n",
       "         [0.7137255 , 0.7921569 , 0.78431374],\n",
       "         [0.6431373 , 0.7411765 , 0.7294118 ]],\n",
       "\n",
       "        [[0.57254905, 0.6392157 , 0.6156863 ],\n",
       "         [0.6431373 , 0.70980394, 0.6862745 ],\n",
       "         [0.62352943, 0.6901961 , 0.6666667 ],\n",
       "         ...,\n",
       "         [0.6313726 , 0.7019608 , 0.6392157 ],\n",
       "         [0.6       , 0.6862745 , 0.6392157 ],\n",
       "         [0.7882353 , 0.8784314 , 0.85490197]],\n",
       "\n",
       "        ...,\n",
       "\n",
       "        [[0.49019608, 0.53333336, 0.47843137],\n",
       "         [0.42352942, 0.4627451 , 0.41960785],\n",
       "         [0.38431373, 0.42352942, 0.38039216],\n",
       "         ...,\n",
       "         [0.1764706 , 0.18039216, 0.11764706],\n",
       "         [0.43137255, 0.4392157 , 0.38431373],\n",
       "         [0.39215687, 0.41568628, 0.36078432]],\n",
       "\n",
       "        [[0.4509804 , 0.4627451 , 0.43529412],\n",
       "         [0.6862745 , 0.67058825, 0.62352943],\n",
       "         [0.81960785, 0.7882353 , 0.7372549 ],\n",
       "         ...,\n",
       "         [0.6627451 , 0.68235296, 0.654902  ],\n",
       "         [0.2       , 0.21960784, 0.19215687],\n",
       "         [0.30588236, 0.3254902 , 0.29803923]],\n",
       "\n",
       "        [[0.5176471 , 0.5294118 , 0.5019608 ],\n",
       "         [0.5568628 , 0.5411765 , 0.49411765],\n",
       "         [0.5176471 , 0.4862745 , 0.43529412],\n",
       "         ...,\n",
       "         [0.25882354, 0.2784314 , 0.2509804 ],\n",
       "         [0.44705883, 0.46666667, 0.4392157 ],\n",
       "         [0.5019608 , 0.52156866, 0.49411765]]]], dtype=float32)"
      ]
     },
     "execution_count": 26,
     "metadata": {},
     "output_type": "execute_result"
    }
   ],
   "source": [
    "x = np.array(img, dtype='float32')\n",
    "X = np.array([x])\n",
    "\n",
    "X = preprocess_input(X)\n",
    "X"
   ]
  },
  {
   "cell_type": "code",
   "execution_count": 27,
   "metadata": {},
   "outputs": [],
   "source": [
    "pred = model.predict(X)"
   ]
  },
  {
   "cell_type": "code",
   "execution_count": 28,
   "metadata": {},
   "outputs": [
    {
     "data": {
      "text/plain": [
       "{'butterfly': 1e-06,\n",
       " 'cats': 5e-06,\n",
       " 'chicken': 5e-06,\n",
       " 'cow': 5.3e-05,\n",
       " 'dog': 0.999787,\n",
       " 'elephant': 4e-06,\n",
       " 'horse': 2e-06,\n",
       " 'sheep': 0.000109,\n",
       " 'spider': 3.2e-05,\n",
       " 'squirrel': 1e-06}"
      ]
     },
     "execution_count": 28,
     "metadata": {},
     "output_type": "execute_result"
    }
   ],
   "source": [
    "classes = [\n",
    "    'butterfly',\n",
    "    'cats',\n",
    "    'chicken',\n",
    "    'cow',\n",
    "    'dog',\n",
    "    'elephant',\n",
    "    'horse',\n",
    "    'sheep',\n",
    "    'spider',\n",
    "    'squirrel'    \n",
    "]\n",
    "\n",
    "dict(zip(classes, pred[0].round(6)))"
   ]
  },
  {
   "cell_type": "code",
   "execution_count": 29,
   "metadata": {},
   "outputs": [],
   "source": [
    "## Convert Keras to TF-Lite"
   ]
  },
  {
   "cell_type": "code",
   "execution_count": 30,
   "metadata": {},
   "outputs": [
    {
     "name": "stdout",
     "output_type": "stream",
     "text": [
      "INFO:tensorflow:Assets written to: /var/folders/wk/yt_rdhdx7mqbrqjqngjkkqx00000gn/T/tmp1qq2k09m/assets\n"
     ]
    },
    {
     "name": "stderr",
     "output_type": "stream",
     "text": [
      "INFO:tensorflow:Assets written to: /var/folders/wk/yt_rdhdx7mqbrqjqngjkkqx00000gn/T/tmp1qq2k09m/assets\n"
     ]
    }
   ],
   "source": [
    "converter = tf.lite.TFLiteConverter.from_keras_model(model)\n",
    "converter.optimizations = [tf.lite.Optimize.OPTIMIZE_FOR_SIZE]\n",
    "tflite_model = converter.convert()\n",
    "\n",
    "with open('xception_v1.tflite', 'wb') as f_out:\n",
    "    f_out.write(tflite_model)"
   ]
  },
  {
   "cell_type": "code",
   "execution_count": 31,
   "metadata": {},
   "outputs": [],
   "source": [
    "#!pip install --extra-index-url https://google-coral.github.io/py-repo/ tflite_runtime"
   ]
  },
  {
   "cell_type": "code",
   "execution_count": 32,
   "metadata": {},
   "outputs": [],
   "source": [
    "#!pip install tflite_runtime-2.5.0-cp38-cp38-macosx_10_15_x86_64.whl"
   ]
  },
  {
   "cell_type": "code",
   "execution_count": 33,
   "metadata": {},
   "outputs": [],
   "source": [
    "import tensorflow.lite as tflite\n",
    "#import tflite_runtime.interpreter as tflite"
   ]
  },
  {
   "cell_type": "code",
   "execution_count": 34,
   "metadata": {},
   "outputs": [],
   "source": [
    "interpreter = tflite.Interpreter(model_path='xception_v1.tflite')\n",
    "interpreter.allocate_tensors()\n",
    "\n",
    "input_index = interpreter.get_input_details()[0]['index']\n",
    "output_index = interpreter.get_output_details()[0]['index']"
   ]
  },
  {
   "cell_type": "code",
   "execution_count": 35,
   "metadata": {},
   "outputs": [
    {
     "data": {
      "text/plain": [
       "228"
      ]
     },
     "execution_count": 35,
     "metadata": {},
     "output_type": "execute_result"
    }
   ],
   "source": [
    "output_index"
   ]
  },
  {
   "cell_type": "code",
   "execution_count": 36,
   "metadata": {},
   "outputs": [],
   "source": [
    "interpreter.set_tensor(input_index, X)\n",
    "interpreter.invoke()\n",
    "pred = interpreter.get_tensor(output_index)"
   ]
  },
  {
   "cell_type": "code",
   "execution_count": 37,
   "metadata": {},
   "outputs": [
    {
     "data": {
      "text/plain": [
       "{'butterfly': 1e-06,\n",
       " 'cats': 4e-06,\n",
       " 'chicken': 5e-06,\n",
       " 'cow': 5.5e-05,\n",
       " 'dog': 0.999837,\n",
       " 'elephant': 3e-06,\n",
       " 'horse': 1e-06,\n",
       " 'sheep': 6.2e-05,\n",
       " 'spider': 3.2e-05,\n",
       " 'squirrel': 1e-06}"
      ]
     },
     "execution_count": 37,
     "metadata": {},
     "output_type": "execute_result"
    }
   ],
   "source": [
    "classes = [\n",
    "    'butterfly',\n",
    "    'cats',\n",
    "    'chicken',\n",
    "    'cow',\n",
    "    'dog',\n",
    "    'elephant',\n",
    "    'horse',\n",
    "    'sheep',\n",
    "    'spider',\n",
    "    'squirrel'    \n",
    "]\n",
    "\n",
    "dict(zip(classes, pred[0].round(6)))"
   ]
  }
 ],
 "metadata": {
  "kernelspec": {
   "display_name": "Python 3",
   "language": "python",
   "name": "python3"
  },
  "language_info": {
   "codemirror_mode": {
    "name": "ipython",
    "version": 3
   },
   "file_extension": ".py",
   "mimetype": "text/x-python",
   "name": "python",
   "nbconvert_exporter": "python",
   "pygments_lexer": "ipython3",
   "version": "3.8.2"
  }
 },
 "nbformat": 4,
 "nbformat_minor": 4
}
