{
 "cells": [
  {
   "cell_type": "code",
   "execution_count": 1,
   "metadata": {},
   "outputs": [],
   "source": [
    "import os, pathlib\n",
    "from pathlib import Path\n",
    "import shutil\n",
    "\n",
    "import numpy as np\n",
    "import matplotlib.pyplot as plt\n",
    "\n",
    "import splitfolders"
   ]
  },
  {
   "cell_type": "code",
   "execution_count": 2,
   "metadata": {},
   "outputs": [],
   "source": [
    "import tensorflow\n",
    "\n",
    "from tensorflow import keras\n",
    "\n",
    "from tensorflow.keras import layers\n",
    "from tensorflow.keras import models\n",
    "from tensorflow.keras import optimizers\n",
    "\n",
    "from tensorflow.keras.preprocessing.image import ImageDataGenerator\n",
    "from tensorflow.keras.preprocessing import image\n",
    "\n",
    "from tensorflow.keras.applications.xception import Xception"
   ]
  },
  {
   "cell_type": "code",
   "execution_count": 3,
   "metadata": {},
   "outputs": [],
   "source": [
    "input_dir = '/Users/Erol/Documents/HW10/archive/raw-img'\n",
    "output_dir = '/Users/Erol/Documents/HW10'\n",
    "train_dir = '/Users/Erol/Documents/HW10/train'\n",
    "valid_dir = '/Users/Erol/Documents/HW10/val'"
   ]
  },
  {
   "cell_type": "markdown",
   "metadata": {},
   "source": [
    "# EDA"
   ]
  },
  {
   "cell_type": "code",
   "execution_count": 4,
   "metadata": {},
   "outputs": [],
   "source": [
    "# code is taken from \n",
    "# https://stackoverflow.com/questions/2632205/how-to-count-the-number-of-files-in-a-directory-using-python\n",
    "\n",
    "def count_files(rootdir):\n",
    "    classes = dict()\n",
    "    for path in pathlib.Path(rootdir).iterdir():\n",
    "        if path.is_dir():\n",
    "            classes[path.name] = len([name for name in os.listdir(path) \\\n",
    "            if os.path.isfile(os.path.join(path, name))])\n",
    "            #print(\"There are \" + str(len([name for name in os.listdir(path) \\\n",
    "            #if os.path.isfile(os.path.join(path, name))])) + \" files in \" + \\\n",
    "            #      str(path.name))\n",
    "    return classes"
   ]
  },
  {
   "cell_type": "code",
   "execution_count": 5,
   "metadata": {},
   "outputs": [],
   "source": [
    "classes = count_files(input_dir)"
   ]
  },
  {
   "cell_type": "code",
   "execution_count": 6,
   "metadata": {},
   "outputs": [
    {
     "data": {
      "image/png": "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\n",
      "text/plain": [
       "<Figure size 432x288 with 1 Axes>"
      ]
     },
     "metadata": {
      "needs_background": "light"
     },
     "output_type": "display_data"
    }
   ],
   "source": [
    "names = classes.keys()\n",
    "values = classes.values()\n",
    "plt.xticks(rotation=90)\n",
    "plt.bar(names, values)\n",
    "plt.title('Classes')\n",
    "plt.show()"
   ]
  },
  {
   "cell_type": "markdown",
   "metadata": {},
   "source": [
    "# Splitting Train & Validation Data"
   ]
  },
  {
   "cell_type": "code",
   "execution_count": 7,
   "metadata": {},
   "outputs": [],
   "source": [
    "#Code is taken from\n",
    "#https://stackoverflow.com/questions/67659928/how-to-split-images-dataset-into-test-training-validation-sets-in-python\n",
    "\n",
    "def split_data(input_dir, output_dir, x):\n",
    "    splitfolders.ratio(input_dir, output = output_dir, seed = 42, ratio = (x,1-x), group_prefix = None)\n",
    "\n",
    "split_data(input_dir, output_dir, 0.8)"
   ]
  },
  {
   "cell_type": "markdown",
   "metadata": {},
   "source": [
    "# Initial Sequential Model"
   ]
  },
  {
   "cell_type": "code",
   "execution_count": 8,
   "metadata": {},
   "outputs": [],
   "source": [
    "model = models.Sequential()\n",
    "\n",
    "model.add(layers.Conv2D(32, (3, 3), activation='relu',\n",
    "                        input_shape=(256, 256, 3)))\n",
    "model.add(layers.MaxPooling2D((2, 2)))\n",
    "\n",
    "model.add(layers.Conv2D(32, (3, 3), activation='relu'))\n",
    "model.add(layers.MaxPooling2D((2, 2)))\n",
    "\n",
    "model.add(layers.Conv2D(32, (3, 3), activation='relu'))\n",
    "model.add(layers.MaxPooling2D((2, 2)))\n",
    "\n",
    "model.add(layers.Flatten())\n",
    "\n",
    "model.add(layers.Dense(10, activation='softmax'))"
   ]
  },
  {
   "cell_type": "code",
   "execution_count": 9,
   "metadata": {},
   "outputs": [],
   "source": [
    "model.compile(loss='categorical_crossentropy',\\\n",
    "             optimizer=optimizers.SGD(learning_rate=0.002, momentum=0.8),\\\n",
    "             metrics=['acc'])"
   ]
  },
  {
   "cell_type": "code",
   "execution_count": 10,
   "metadata": {},
   "outputs": [
    {
     "name": "stdout",
     "output_type": "stream",
     "text": [
      "Model: \"sequential\"\n",
      "_________________________________________________________________\n",
      "Layer (type)                 Output Shape              Param #   \n",
      "=================================================================\n",
      "conv2d (Conv2D)              (None, 254, 254, 32)      896       \n",
      "_________________________________________________________________\n",
      "max_pooling2d (MaxPooling2D) (None, 127, 127, 32)      0         \n",
      "_________________________________________________________________\n",
      "conv2d_1 (Conv2D)            (None, 125, 125, 32)      9248      \n",
      "_________________________________________________________________\n",
      "max_pooling2d_1 (MaxPooling2 (None, 62, 62, 32)        0         \n",
      "_________________________________________________________________\n",
      "conv2d_2 (Conv2D)            (None, 60, 60, 32)        9248      \n",
      "_________________________________________________________________\n",
      "max_pooling2d_2 (MaxPooling2 (None, 30, 30, 32)        0         \n",
      "_________________________________________________________________\n",
      "flatten (Flatten)            (None, 28800)             0         \n",
      "_________________________________________________________________\n",
      "dense (Dense)                (None, 10)                288010    \n",
      "=================================================================\n",
      "Total params: 307,402\n",
      "Trainable params: 307,402\n",
      "Non-trainable params: 0\n",
      "_________________________________________________________________\n"
     ]
    }
   ],
   "source": [
    "model.summary() # Check number of parameters"
   ]
  },
  {
   "cell_type": "markdown",
   "metadata": {},
   "source": [
    "# Plot & Basic Statistics Functions of History"
   ]
  },
  {
   "cell_type": "code",
   "execution_count": 11,
   "metadata": {},
   "outputs": [],
   "source": [
    "def history_plot(history):\n",
    "    \n",
    "    acc = history.history['acc']\n",
    "    val_acc = history.history['val_acc']\n",
    "    loss = history.history['loss']\n",
    "    val_loss = history.history['val_loss']\n",
    "\n",
    "    epochs = range(1, len(acc) + 1)\n",
    "\n",
    "    plt.plot(epochs, acc, label='Training')\n",
    "    plt.plot(epochs, val_acc, label='Validation')\n",
    "    plt.title('Accuracy')\n",
    "    plt.legend()\n",
    "\n",
    "    plt.figure()\n",
    "\n",
    "    plt.plot(epochs, loss, label='Training')\n",
    "    plt.plot(epochs, val_loss, label='Validation')\n",
    "    plt.title('Loss')\n",
    "    plt.legend()\n",
    "\n",
    "    plt.show()"
   ]
  },
  {
   "cell_type": "code",
   "execution_count": 20,
   "metadata": {},
   "outputs": [],
   "source": [
    "def acc_stat(history):\n",
    "    acc = history.history['acc']\n",
    "    acc_median = np.median(acc)\n",
    "    return acc_median\n",
    "\n",
    "def loss_stat(history):\n",
    "    loss = history.history['loss']\n",
    "    loss_std = np.std(loss)\n",
    "    return loss_std"
   ]
  },
  {
   "cell_type": "markdown",
   "metadata": {},
   "source": [
    "# Training & Validation Data Generators"
   ]
  },
  {
   "cell_type": "code",
   "execution_count": 13,
   "metadata": {},
   "outputs": [],
   "source": [
    "train_datagen = ImageDataGenerator(rescale=1./255)\n",
    "val_datagen = ImageDataGenerator(rescale=1./255) 
   ]
  },
  {
   "cell_type": "code",
   "execution_count": 14,
   "metadata": {},
   "outputs": [
    {
     "name": "stdout",
     "output_type": "stream",
     "text": [
      "Found 20938 images belonging to 10 classes.\n"
     ]
    }
   ],
   "source": [
    "train_generator = train_datagen.flow_from_directory(train_dir,\n",
    "                                                    target_size=(256, 256),\n",
    "                                                    batch_size=16,\n",
    "                                                    class_mode='categorical')"
   ]
  },
  {
   "cell_type": "code",
   "execution_count": 15,
   "metadata": {},
   "outputs": [
    {
     "name": "stdout",
     "output_type": "stream",
     "text": [
      "Found 5241 images belonging to 10 classes.\n"
     ]
    }
   ],
   "source": [
    "validation_generator = val_datagen.flow_from_directory(valid_dir,\n",
    "                                                        target_size=(256, 256),\n",
    "                                                        batch_size=16,\n",
    "                                                        class_mode='categorical')"
   ]
  },
  {
   "cell_type": "markdown",
   "metadata": {},
   "source": [
    "# Training Sequential Model"
   ]
  },
  {
   "cell_type": "code",
   "execution_count": 16,
   "metadata": {},
   "outputs": [
    {
     "name": "stdout",
     "output_type": "stream",
     "text": [
      "Epoch 1/25\n",
      "50/50 [==============================] - 59s 1s/step - loss: 2.2373 - acc: 0.1743 - val_loss: 2.2008 - val_acc: 0.2125\n",
      "Epoch 2/25\n",
      "50/50 [==============================] - 57s 1s/step - loss: 2.2042 - acc: 0.2085 - val_loss: 2.2067 - val_acc: 0.1688\n",
      "Epoch 3/25\n",
      "50/50 [==============================] - 59s 1s/step - loss: 2.2061 - acc: 0.1918 - val_loss: 2.1293 - val_acc: 0.2562\n",
      "Epoch 4/25\n",
      "50/50 [==============================] - 61s 1s/step - loss: 2.1689 - acc: 0.2006 - val_loss: 2.1794 - val_acc: 0.2188\n",
      "Epoch 5/25\n",
      "50/50 [==============================] - 61s 1s/step - loss: 2.1790 - acc: 0.2282 - val_loss: 2.1073 - val_acc: 0.2250\n",
      "Epoch 6/25\n",
      "50/50 [==============================] - 62s 1s/step - loss: 2.1521 - acc: 0.2659 - val_loss: 2.1889 - val_acc: 0.2375\n",
      "Epoch 7/25\n",
      "50/50 [==============================] - 63s 1s/step - loss: 2.1063 - acc: 0.2494 - val_loss: 2.0007 - val_acc: 0.3187\n",
      "Epoch 8/25\n",
      "50/50 [==============================] - 63s 1s/step - loss: 2.0759 - acc: 0.2272 - val_loss: 2.0051 - val_acc: 0.3187\n",
      "Epoch 9/25\n",
      "50/50 [==============================] - 64s 1s/step - loss: 2.0200 - acc: 0.3372 - val_loss: 2.0522 - val_acc: 0.2688\n",
      "Epoch 10/25\n",
      "50/50 [==============================] - 63s 1s/step - loss: 1.9530 - acc: 0.3218 - val_loss: 1.9242 - val_acc: 0.3438\n",
      "Epoch 11/25\n",
      "50/50 [==============================] - 63s 1s/step - loss: 1.8510 - acc: 0.3680 - val_loss: 1.8076 - val_acc: 0.3625\n",
      "Epoch 12/25\n",
      "50/50 [==============================] - 63s 1s/step - loss: 1.8894 - acc: 0.3282 - val_loss: 2.0389 - val_acc: 0.2688\n",
      "Epoch 13/25\n",
      "50/50 [==============================] - 69s 1s/step - loss: 1.7897 - acc: 0.4073 - val_loss: 1.9104 - val_acc: 0.3375\n",
      "Epoch 14/25\n",
      "50/50 [==============================] - 63s 1s/step - loss: 1.8202 - acc: 0.3553 - val_loss: 1.7661 - val_acc: 0.3938\n",
      "Epoch 15/25\n",
      "50/50 [==============================] - 64s 1s/step - loss: 1.8034 - acc: 0.3673 - val_loss: 1.8464 - val_acc: 0.3438\n",
      "Epoch 16/25\n",
      "50/50 [==============================] - 63s 1s/step - loss: 1.7674 - acc: 0.3880 - val_loss: 1.8390 - val_acc: 0.3438\n",
      "Epoch 17/25\n",
      "50/50 [==============================] - 65s 1s/step - loss: 1.7233 - acc: 0.4151 - val_loss: 1.8410 - val_acc: 0.3500\n",
      "Epoch 18/25\n",
      "50/50 [==============================] - 62s 1s/step - loss: 1.7069 - acc: 0.4106 - val_loss: 1.8674 - val_acc: 0.3500\n",
      "Epoch 19/25\n",
      "50/50 [==============================] - 61s 1s/step - loss: 1.8006 - acc: 0.3675 - val_loss: 1.7245 - val_acc: 0.4125\n",
      "Epoch 20/25\n",
      "50/50 [==============================] - 64s 1s/step - loss: 1.7330 - acc: 0.4024 - val_loss: 1.7308 - val_acc: 0.3688\n",
      "Epoch 21/25\n",
      "50/50 [==============================] - 64s 1s/step - loss: 1.7246 - acc: 0.3879 - val_loss: 1.7106 - val_acc: 0.4125\n",
      "Epoch 22/25\n",
      "50/50 [==============================] - 67s 1s/step - loss: 1.7391 - acc: 0.4216 - val_loss: 1.7966 - val_acc: 0.3313\n",
      "Epoch 23/25\n",
      "50/50 [==============================] - 66s 1s/step - loss: 1.7194 - acc: 0.4031 - val_loss: 1.9758 - val_acc: 0.3250\n",
      "Epoch 24/25\n",
      "50/50 [==============================] - 64s 1s/step - loss: 1.7412 - acc: 0.3807 - val_loss: 1.7630 - val_acc: 0.3750\n",
      "Epoch 25/25\n",
      "50/50 [==============================] - 68s 1s/step - loss: 1.6613 - acc: 0.4303 - val_loss: 1.6503 - val_acc: 0.4313\n"
     ]
    }
   ],
   "source": [
    "history = model.fit(\n",
    "    train_generator,\n",
    "    steps_per_epoch=50,\n",
    "    epochs=25,\n",
    "    validation_data=validation_generator,\n",
    "    validation_steps=10,\n",
    ")"
   ]
  },
  {
   "cell_type": "code",
   "execution_count": 17,
   "metadata": {},
   "outputs": [
    {
     "data": {
      "image/png": "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\n",
      "text/plain": [
       "<Figure size 432x288 with 1 Axes>"
      ]
     },
     "metadata": {
      "needs_background": "light"
     },
     "output_type": "display_data"
    },
    {
     "data": {
      "image/png": "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\n",
      "text/plain": [
       "<Figure size 432x288 with 1 Axes>"
      ]
     },
     "metadata": {
      "needs_background": "light"
     },
     "output_type": "display_data"
    }
   ],
   "source": [
    "history_plot(history)"
   ]
  },
  {
   "cell_type": "code",
   "execution_count": 18,
   "metadata": {},
   "outputs": [
    {
     "data": {
      "text/plain": [
       "0.36625000834465027"
      ]
     },
     "execution_count": 18,
     "metadata": {},
     "output_type": "execute_result"
    }
   ],
   "source": [
    "acc_stat(history) \n",
    "\n",
    "# The accuracy of the model did not improve even when more convolution or dense layers were added\n",
    "# Training time increased dramatically with additional layers \n",
    "# Thus, a pretrained model will be used from now onwards"
   ]
  },
  {
   "cell_type": "code",
   "execution_count": 21,
   "metadata": {},
   "outputs": [
    {
     "data": {
      "text/plain": [
       "0.19183530667508256"
      ]
     },
     "execution_count": 21,
     "metadata": {},
     "output_type": "execute_result"
    }
   ],
   "source": [
    "loss_stat(history)"
   ]
  },
  {
   "cell_type": "markdown",
   "metadata": {},
   "source": [
    "# Using Xception"
   ]
  },
  {
   "cell_type": "code",
   "execution_count": 22,
   "metadata": {},
   "outputs": [],
   "source": [
    "input_shape = (256, 256, 3)\n",
    "image_size = (256, 256)\n",
    "batch_size = 16\n",
    "inputs = keras.Input(shape=input_shape)"
   ]
  },
  {
   "cell_type": "code",
   "execution_count": 23,
   "metadata": {},
   "outputs": [],
   "source": [
    "# Conv layer\n",
    "base_model = Xception(weights='imagenet',include_top=False, input_shape=input_shape)\n",
    "base_model.trainable = False\n",
    "\n",
    "# inputs\n",
    "base = base_model(inputs, training=False)\n",
    "\n",
    "# Max pooling\n",
    "vectors = keras.layers.MaxPooling2D(pool_size=(2, 2), input_shape=input_shape)(base)\n",
    "\n",
    "# Flatten\n",
    "flat = keras.layers.Flatten()(vectors)\n",
    "\n",
    "# Output\n",
    "outputs = keras.layers.Dense(10, activation=\"softmax\")(flat)\n",
    "\n",
    "model = keras.Model(inputs, outputs)"
   ]
  },
  {
   "cell_type": "code",
   "execution_count": 24,
   "metadata": {},
   "outputs": [],
   "source": [
    "model.compile(loss='categorical_crossentropy',\\\n",
    "             optimizer=optimizers.SGD(learning_rate=0.002, momentum=0.8),\\\n",
    "             metrics=['acc'])"
   ]
  },
  {
   "cell_type": "code",
   "execution_count": 25,
   "metadata": {},
   "outputs": [],
   "source": [
    "model.save_weights('model_v2.h5', save_format='h5')"
   ]
  },
  {
   "cell_type": "markdown",
   "metadata": {},
   "source": [
    "# Training Xception Model"
   ]
  },
  {
   "cell_type": "code",
   "execution_count": 26,
   "metadata": {},
   "outputs": [
    {
     "name": "stdout",
     "output_type": "stream",
     "text": [
      "Epoch 1/5\n",
      "50/50 [==============================] - 409s 8s/step - loss: 0.9996 - acc: 0.6878 - val_loss: 0.4978 - val_acc: 0.8750\n",
      "Epoch 2/5\n",
      "50/50 [==============================] - 375s 8s/step - loss: 0.2313 - acc: 0.9398 - val_loss: 0.3049 - val_acc: 0.9187\n",
      "Epoch 3/5\n",
      "50/50 [==============================] - 378s 8s/step - loss: 0.2285 - acc: 0.9412 - val_loss: 0.2385 - val_acc: 0.9438\n",
      "Epoch 4/5\n",
      "50/50 [==============================] - 372s 7s/step - loss: 0.2357 - acc: 0.9508 - val_loss: 0.2434 - val_acc: 0.9500\n",
      "Epoch 5/5\n",
      "50/50 [==============================] - 363s 7s/step - loss: 0.2131 - acc: 0.9554 - val_loss: 0.3551 - val_acc: 0.9375\n"
     ]
    }
   ],
   "source": [
    "history = model.fit(\n",
    "    train_generator,\n",
    "    steps_per_epoch=50,\n",
    "    epochs=5, # the accuracy of the model is already higher with 5 epochs\n",
    "    validation_data=validation_generator,\n",
    "    validation_steps=10\n",
    "    # the accuracy of the model is already higher, smaller number of steps is chosen for validation\n",
    ")"
   ]
  },
  {
   "cell_type": "code",
   "execution_count": 27,
   "metadata": {},
   "outputs": [
    {
     "data": {
      "image/png": "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\n",
      "text/plain": [
       "<Figure size 432x288 with 1 Axes>"
      ]
     },
     "metadata": {
      "needs_background": "light"
     },
     "output_type": "display_data"
    },
    {
     "data": {
      "image/png": "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\n",
      "text/plain": [
       "<Figure size 432x288 with 1 Axes>"
      ]
     },
     "metadata": {
      "needs_background": "light"
     },
     "output_type": "display_data"
    }
   ],
   "source": [
    "history_plot(history)"
   ]
  },
  {
   "cell_type": "code",
   "execution_count": 28,
   "metadata": {},
   "outputs": [
    {
     "data": {
      "text/plain": [
       "0.9474999904632568"
      ]
     },
     "execution_count": 28,
     "metadata": {},
     "output_type": "execute_result"
    }
   ],
   "source": [
    "acc_stat(history)"
   ]
  },
  {
   "cell_type": "code",
   "execution_count": 29,
   "metadata": {},
   "outputs": [
    {
     "data": {
      "text/plain": [
       "0.12801561020810046"
      ]
     },
     "execution_count": 29,
     "metadata": {},
     "output_type": "execute_result"
    }
   ],
   "source": [
    "loss_stat(history)"
   ]
  },
  {
   "cell_type": "markdown",
   "metadata": {},
   "source": [
    "# Adjusting the Learning Rate"
   ]
  },
  {
   "cell_type": "code",
   "execution_count": 30,
   "metadata": {},
   "outputs": [],
   "source": [
    "input_shape = (256, 256, 3)\n",
    "image_size = (256, 256)\n",
    "batch_size = 16\n",
    "inputs = keras.Input(shape=input_shape)"
   ]
  },
  {
   "cell_type": "code",
   "execution_count": 31,
   "metadata": {},
   "outputs": [],
   "source": [
    "def adjust_model(learning_rate):\n",
    "    # Conv layer\n",
    "    base_model = Xception(weights='imagenet',include_top=False, input_shape=input_shape)\n",
    "    base_model.trainable = False\n",
    "\n",
    "    base = base_model(inputs, training=False)\n",
    "    vectors = keras.layers.MaxPooling2D(pool_size=(2, 2), input_shape=input_shape)(base)\n",
    "    flat = keras.layers.Flatten()(vectors)\n",
    "    outputs = keras.layers.Dense(10, activation=\"softmax\")(flat)\n",
    "    model = keras.Model(inputs, outputs)\n",
    "    \n",
    "    model.compile(loss='categorical_crossentropy',\\\n",
    "             optimizer=optimizers.SGD(learning_rate=learning_rate, momentum=0.8),\\\n",
    "             metrics=['acc'])\n",
    "    \n",
    "    return model"
   ]
  },
  {
   "cell_type": "code",
   "execution_count": 32,
   "metadata": {},
   "outputs": [
    {
     "name": "stdout",
     "output_type": "stream",
     "text": [
      "0.002\n",
      "Epoch 1/10\n",
      "25/25 [==============================] - 206s 8s/step - loss: 1.2714 - acc: 0.5921 - val_loss: 0.3396 - val_acc: 0.9000\n",
      "Epoch 2/10\n",
      "25/25 [==============================] - 211s 9s/step - loss: 0.2166 - acc: 0.9286 - val_loss: 0.3527 - val_acc: 0.9125\n",
      "Epoch 3/10\n",
      "25/25 [==============================] - 211s 9s/step - loss: 0.1611 - acc: 0.9472 - val_loss: 0.2090 - val_acc: 0.9438\n",
      "Epoch 4/10\n",
      "25/25 [==============================] - 213s 9s/step - loss: 0.2273 - acc: 0.9474 - val_loss: 0.2201 - val_acc: 0.9563\n",
      "Epoch 5/10\n",
      "25/25 [==============================] - 217s 9s/step - loss: 0.3681 - acc: 0.9315 - val_loss: 0.3210 - val_acc: 0.9187\n",
      "Epoch 6/10\n",
      "25/25 [==============================] - 212s 9s/step - loss: 0.2538 - acc: 0.9230 - val_loss: 0.1150 - val_acc: 0.9688\n",
      "Epoch 7/10\n",
      "25/25 [==============================] - 212s 9s/step - loss: 0.1892 - acc: 0.9460 - val_loss: 0.2871 - val_acc: 0.9375\n",
      "Epoch 8/10\n",
      "25/25 [==============================] - 211s 9s/step - loss: 0.1757 - acc: 0.9615 - val_loss: 0.0673 - val_acc: 0.9688\n",
      "Epoch 9/10\n",
      "25/25 [==============================] - 218s 9s/step - loss: 0.2343 - acc: 0.9363 - val_loss: 0.1756 - val_acc: 0.9500\n",
      "Epoch 10/10\n",
      "25/25 [==============================] - 211s 9s/step - loss: 0.1118 - acc: 0.9720 - val_loss: 0.2316 - val_acc: 0.9375\n",
      "\n",
      "\n",
      "0.02\n",
      "Epoch 1/10\n",
      "25/25 [==============================] - 217s 9s/step - loss: 8.0684 - acc: 0.5473 - val_loss: 5.5806 - val_acc: 0.8000\n",
      "Epoch 2/10\n",
      "25/25 [==============================] - 212s 9s/step - loss: 1.6585 - acc: 0.9259 - val_loss: 2.7159 - val_acc: 0.9000\n",
      "Epoch 3/10\n",
      "25/25 [==============================] - 213s 9s/step - loss: 2.8627 - acc: 0.8782 - val_loss: 0.5475 - val_acc: 0.9438\n",
      "Epoch 4/10\n",
      "25/25 [==============================] - 212s 9s/step - loss: 2.2588 - acc: 0.9360 - val_loss: 2.6730 - val_acc: 0.9000\n",
      "Epoch 5/10\n",
      "25/25 [==============================] - 213s 9s/step - loss: 2.0903 - acc: 0.9148 - val_loss: 2.6913 - val_acc: 0.9062\n",
      "Epoch 6/10\n",
      "25/25 [==============================] - 236s 10s/step - loss: 1.5180 - acc: 0.9419 - val_loss: 4.1601 - val_acc: 0.9250\n",
      "Epoch 7/10\n",
      "25/25 [==============================] - 250s 10s/step - loss: 1.8734 - acc: 0.9382 - val_loss: 1.3260 - val_acc: 0.9563\n",
      "Epoch 8/10\n",
      "25/25 [==============================] - 241s 10s/step - loss: 1.6360 - acc: 0.9428 - val_loss: 2.9613 - val_acc: 0.9187\n",
      "Epoch 9/10\n",
      "25/25 [==============================] - 250s 10s/step - loss: 2.5264 - acc: 0.9363 - val_loss: 0.6531 - val_acc: 0.9563\n",
      "Epoch 10/10\n",
      "25/25 [==============================] - 259s 11s/step - loss: 1.6457 - acc: 0.9492 - val_loss: 4.0900 - val_acc: 0.9312\n",
      "\n",
      "\n",
      "0.2\n",
      "Epoch 1/10\n",
      "25/25 [==============================] - 254s 10s/step - loss: 136.1036 - acc: 0.4229 - val_loss: 32.0726 - val_acc: 0.8750\n",
      "Epoch 2/10\n",
      "25/25 [==============================] - 252s 10s/step - loss: 25.2326 - acc: 0.8891 - val_loss: 43.6686 - val_acc: 0.8687\n",
      "Epoch 3/10\n",
      "25/25 [==============================] - 232s 9s/step - loss: 33.6378 - acc: 0.9154 - val_loss: 23.1396 - val_acc: 0.9438\n",
      "Epoch 4/10\n",
      "25/25 [==============================] - 232s 9s/step - loss: 21.8524 - acc: 0.9586 - val_loss: 16.2583 - val_acc: 0.9625\n",
      "Epoch 5/10\n",
      "25/25 [==============================] - 234s 9s/step - loss: 13.4078 - acc: 0.9609 - val_loss: 35.0384 - val_acc: 0.9312\n",
      "Epoch 6/10\n",
      "25/25 [==============================] - 234s 9s/step - loss: 13.9874 - acc: 0.9507 - val_loss: 51.8401 - val_acc: 0.9250\n",
      "Epoch 7/10\n",
      "25/25 [==============================] - 235s 10s/step - loss: 34.2509 - acc: 0.9207 - val_loss: 28.7785 - val_acc: 0.9375\n",
      "Epoch 8/10\n",
      "25/25 [==============================] - 236s 10s/step - loss: 25.2679 - acc: 0.9316 - val_loss: 39.8113 - val_acc: 0.8938\n",
      "Epoch 9/10\n",
      "25/25 [==============================] - 231s 9s/step - loss: 16.2007 - acc: 0.9558 - val_loss: 10.7648 - val_acc: 0.9750\n",
      "Epoch 10/10\n",
      "25/25 [==============================] - 235s 9s/step - loss: 16.5366 - acc: 0.9578 - val_loss: 28.3941 - val_acc: 0.9375\n",
      "\n",
      "\n"
     ]
    }
   ],
   "source": [
    "scores = {}\n",
    "\n",
    "for lr in [0.002, 0.02, 0.2]:\n",
    "    print(lr)\n",
    "\n",
    "    model = adjust_model(learning_rate=lr)\n",
    "    \n",
    "    history = model.fit(\n",
    "        train_generator,\n",
    "        steps_per_epoch=25,# small steps are chosen to cut training time\n",
    "        epochs=10, # 10 epochs are run to analyze robustness of the model\n",
    "        validation_data=validation_generator,\n",
    "        validation_steps=10,\n",
    "        # the accuracy of the model is already higher, smaller number of steps is chosen for validation\n",
    "    )\n",
    "    \n",
    "    scores[lr] = history.history\n",
    "\n",
    "    print()\n",
    "    print()"
   ]
  },
  {
   "cell_type": "code",
   "execution_count": 33,
   "metadata": {},
   "outputs": [
    {
     "data": {
      "text/plain": [
       "<matplotlib.legend.Legend at 0x14ab5f880>"
      ]
     },
     "execution_count": 33,
     "metadata": {},
     "output_type": "execute_result"
    },
    {
     "data": {
      "image/png": "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\n",
      "text/plain": [
       "<Figure size 432x288 with 1 Axes>"
      ]
     },
     "metadata": {
      "needs_background": "light"
     },
     "output_type": "display_data"
    }
   ],
   "source": [
    "for lr, hist in scores.items():\n",
    "    plt.plot(hist['val_acc'], label=('val=%s' % lr))\n",
    "\n",
    "plt.xticks(np.arange(5))\n",
    "plt.legend()"
   ]
  },
  {
   "cell_type": "code",
   "execution_count": 34,
   "metadata": {},
   "outputs": [],
   "source": [
    "learning_rate = 0.002 # seems more consistent"
   ]
  },
  {
   "cell_type": "markdown",
   "metadata": {},
   "source": [
    "# Adjusting the Dropout"
   ]
  },
  {
   "cell_type": "code",
   "execution_count": 35,
   "metadata": {},
   "outputs": [],
   "source": [
    "input_shape = (256, 256, 3)\n",
    "image_size = (256, 256)\n",
    "batch_size = 16\n",
    "inputs = keras.Input(shape=input_shape)"
   ]
  },
  {
   "cell_type": "code",
   "execution_count": 36,
   "metadata": {},
   "outputs": [],
   "source": [
    "def adjust_model(learning_rate, droprate):\n",
    "    # Conv layer\n",
    "    base_model = Xception(weights='imagenet',include_top=False, input_shape=input_shape)\n",
    "    base_model.trainable = False\n",
    "\n",
    "    base = base_model(inputs, training=False)\n",
    "    vectors = keras.layers.MaxPooling2D(pool_size=(2, 2), input_shape=input_shape)(base)\n",
    "    flat = keras.layers.Flatten()(vectors)\n",
    "    drop = keras.layers.Dropout(droprate)(flat)\n",
    "    outputs = keras.layers.Dense(10, activation=\"softmax\")(drop)\n",
    "    model = keras.Model(inputs, outputs)\n",
    "    \n",
    "    model.compile(loss='categorical_crossentropy',\\\n",
    "             optimizer=optimizers.SGD(learning_rate=learning_rate, momentum=0.8),\\\n",
    "             metrics=['acc'])\n",
    "    \n",
    "    return model"
   ]
  },
  {
   "cell_type": "code",
   "execution_count": 37,
   "metadata": {},
   "outputs": [
    {
     "name": "stdout",
     "output_type": "stream",
     "text": [
      "0.0\n",
      "Epoch 1/10\n",
      "25/25 [==============================] - 244s 10s/step - loss: 1.2113 - acc: 0.6376 - val_loss: 0.3474 - val_acc: 0.9125\n",
      "Epoch 2/10\n",
      "25/25 [==============================] - 239s 10s/step - loss: 0.2698 - acc: 0.9231 - val_loss: 0.4496 - val_acc: 0.8750\n",
      "Epoch 3/10\n",
      "25/25 [==============================] - 218s 9s/step - loss: 0.4088 - acc: 0.9099 - val_loss: 0.1688 - val_acc: 0.9625\n",
      "Epoch 4/10\n",
      "25/25 [==============================] - 213s 9s/step - loss: 0.2489 - acc: 0.9391 - val_loss: 0.3232 - val_acc: 0.9250\n",
      "Epoch 5/10\n",
      "25/25 [==============================] - 213s 9s/step - loss: 0.2792 - acc: 0.9120 - val_loss: 0.1233 - val_acc: 0.9563\n",
      "Epoch 6/10\n",
      "25/25 [==============================] - 213s 9s/step - loss: 0.1828 - acc: 0.9499 - val_loss: 0.1841 - val_acc: 0.9438\n",
      "Epoch 7/10\n",
      "25/25 [==============================] - 213s 9s/step - loss: 0.2560 - acc: 0.9439 - val_loss: 0.2048 - val_acc: 0.9438\n",
      "Epoch 8/10\n",
      "25/25 [==============================] - 212s 9s/step - loss: 0.1980 - acc: 0.9493 - val_loss: 0.3457 - val_acc: 0.9187\n",
      "Epoch 9/10\n",
      "25/25 [==============================] - 212s 9s/step - loss: 0.2104 - acc: 0.9385 - val_loss: 0.1317 - val_acc: 0.9500\n",
      "Epoch 10/10\n",
      "25/25 [==============================] - 211s 9s/step - loss: 0.1333 - acc: 0.9528 - val_loss: 0.2430 - val_acc: 0.9375\n",
      "\n",
      "\n",
      "0.5\n",
      "Epoch 1/10\n",
      "25/25 [==============================] - 214s 9s/step - loss: 1.3041 - acc: 0.5770 - val_loss: 0.2698 - val_acc: 0.9375\n",
      "Epoch 2/10\n",
      "25/25 [==============================] - 211s 9s/step - loss: 0.3316 - acc: 0.9218 - val_loss: 0.3002 - val_acc: 0.9375\n",
      "Epoch 3/10\n",
      "25/25 [==============================] - 211s 9s/step - loss: 0.2256 - acc: 0.9317 - val_loss: 0.1168 - val_acc: 0.9563\n",
      "Epoch 4/10\n",
      "25/25 [==============================] - 211s 9s/step - loss: 0.1912 - acc: 0.9350 - val_loss: 0.2527 - val_acc: 0.9125\n",
      "Epoch 5/10\n",
      "25/25 [==============================] - 210s 9s/step - loss: 0.1808 - acc: 0.9599 - val_loss: 0.2645 - val_acc: 0.9187\n",
      "Epoch 6/10\n",
      "25/25 [==============================] - 211s 9s/step - loss: 0.1953 - acc: 0.9395 - val_loss: 0.3536 - val_acc: 0.9250\n",
      "Epoch 7/10\n",
      "25/25 [==============================] - 211s 9s/step - loss: 0.2349 - acc: 0.9432 - val_loss: 0.1199 - val_acc: 0.9563\n",
      "Epoch 8/10\n",
      "25/25 [==============================] - 210s 9s/step - loss: 0.1393 - acc: 0.9458 - val_loss: 0.2560 - val_acc: 0.9250\n",
      "Epoch 9/10\n",
      "25/25 [==============================] - 210s 8s/step - loss: 0.3243 - acc: 0.9286 - val_loss: 0.1654 - val_acc: 0.9500\n",
      "Epoch 10/10\n",
      "25/25 [==============================] - 210s 8s/step - loss: 0.1449 - acc: 0.9635 - val_loss: 0.0877 - val_acc: 0.9750\n",
      "\n",
      "\n",
      "0.8\n",
      "Epoch 1/10\n",
      "25/25 [==============================] - 214s 9s/step - loss: 1.9039 - acc: 0.5232 - val_loss: 0.3830 - val_acc: 0.8813\n",
      "Epoch 2/10\n",
      "25/25 [==============================] - 210s 8s/step - loss: 0.4795 - acc: 0.8782 - val_loss: 0.2748 - val_acc: 0.9187\n",
      "Epoch 3/10\n",
      "25/25 [==============================] - 214s 9s/step - loss: 0.7899 - acc: 0.8259 - val_loss: 0.3122 - val_acc: 0.9187\n",
      "Epoch 4/10\n",
      "25/25 [==============================] - 210s 8s/step - loss: 0.7436 - acc: 0.8905 - val_loss: 0.2546 - val_acc: 0.9500\n",
      "Epoch 5/10\n",
      "25/25 [==============================] - 210s 8s/step - loss: 0.4293 - acc: 0.9138 - val_loss: 0.2330 - val_acc: 0.9500\n",
      "Epoch 6/10\n",
      "25/25 [==============================] - 210s 8s/step - loss: 0.3610 - acc: 0.9392 - val_loss: 0.1828 - val_acc: 0.9625\n",
      "Epoch 7/10\n",
      "25/25 [==============================] - 207s 8s/step - loss: 0.4493 - acc: 0.9149 - val_loss: 0.5195 - val_acc: 0.9375\n",
      "Epoch 8/10\n",
      "25/25 [==============================] - 209s 8s/step - loss: 0.3570 - acc: 0.9237 - val_loss: 0.1627 - val_acc: 0.9438\n",
      "Epoch 9/10\n",
      "25/25 [==============================] - 210s 8s/step - loss: 0.3551 - acc: 0.9326 - val_loss: 0.3897 - val_acc: 0.9250\n",
      "Epoch 10/10\n",
      "25/25 [==============================] - 211s 9s/step - loss: 0.1909 - acc: 0.9516 - val_loss: 0.4195 - val_acc: 0.9438\n",
      "\n",
      "\n"
     ]
    }
   ],
   "source": [
    "learning_rate = 0.002\n",
    "\n",
    "scores = {}\n",
    "\n",
    "for droprate in [0.0, 0.5, 0.8]:\n",
    "    print(droprate)\n",
    "\n",
    "    model = adjust_model(\n",
    "        learning_rate=learning_rate,\n",
    "        droprate=droprate\n",
    "    )\n",
    "    \n",
    "    history = model.fit(\n",
    "        train_generator,\n",
    "        steps_per_epoch=25,# small steps are chosen to cut training time\n",
    "        epochs=10, # 10 epochs are run to analyze robustness of the model\n",
    "        validation_data=validation_generator,\n",
    "        validation_steps=10,\n",
    "        # the accuracy of the model is already higher, smaller number of steps is chosen for validation\n",
    "    )\n",
    "\n",
    "    scores[droprate] = history.history\n",
    "\n",
    "    print()\n",
    "    print()"
   ]
  },
  {
   "cell_type": "code",
   "execution_count": 38,
   "metadata": {},
   "outputs": [
    {
     "data": {
      "text/plain": [
       "<matplotlib.legend.Legend at 0x146806850>"
      ]
     },
     "execution_count": 38,
     "metadata": {},
     "output_type": "execute_result"
    },
    {
     "data": {
      "image/png": "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\n",
      "text/plain": [
       "<Figure size 432x288 with 1 Axes>"
      ]
     },
     "metadata": {
      "needs_background": "light"
     },
     "output_type": "display_data"
    }
   ],
   "source": [
    "for droprate, hist in scores.items():\n",
    "    plt.plot(hist['val_acc'], label=('val=%s' % droprate))\n",
    "\n",
    "plt.xticks(np.arange(5))\n",
    "plt.legend()"
   ]
  },
  {
   "cell_type": "code",
   "execution_count": 39,
   "metadata": {},
   "outputs": [],
   "source": [
    "droprate = 0.8 # seems more consistent"
   ]
  },
  {
   "cell_type": "markdown",
   "metadata": {},
   "source": [
    "# Training the Final Model with Augmentation"
   ]
  },
  {
   "cell_type": "code",
   "execution_count": 40,
   "metadata": {},
   "outputs": [],
   "source": [
    "input_shape = (256, 256, 3)\n",
    "image_size = (256, 256)\n",
    "batch_size = 16\n",
    "inputs = keras.Input(shape=input_shape)\n",
    "learning_rate = 0.002\n",
    "droprate = 0.8"
   ]
  },
  {
   "cell_type": "code",
   "execution_count": 41,
   "metadata": {},
   "outputs": [],
   "source": [
    "# Xception Model Checkpoint\n",
    "\n",
    "checkpoint_v2 = keras.callbacks.ModelCheckpoint(\n",
    "    'xception_v1_{epoch:02d}_{val_acc:.3f}.h5',\n",
    "    save_best_only=True,\n",
    "    monitor='val_acc',\n",
    "    mode='max'\n",
    ")"
   ]
  },
  {
   "cell_type": "code",
   "execution_count": 42,
   "metadata": {},
   "outputs": [],
   "source": [
    "# Augmentation\n",
    "train_datagen = ImageDataGenerator(\n",
    "    rescale=1./255,\n",
    "    rotation_range=40,\n",
    "    width_shift_range=0.2,\n",
    "    height_shift_range=0.2,\n",
    "    shear_range=0.2,\n",
    "    zoom_range=0.2,\n",
    "    horizontal_flip=True,)"
   ]
  },
  {
   "cell_type": "code",
   "execution_count": 43,
   "metadata": {},
   "outputs": [],
   "source": [
    "val_datagen = ImageDataGenerator(rescale=1./255) # No augmentation for validation set"
   ]
  },
  {
   "cell_type": "code",
   "execution_count": 44,
   "metadata": {},
   "outputs": [],
   "source": [
    "model = adjust_model(\n",
    "        learning_rate=learning_rate,\n",
    "        droprate=droprate\n",
    ")"
   ]
  },
  {
   "cell_type": "code",
   "execution_count": 45,
   "metadata": {},
   "outputs": [
    {
     "name": "stdout",
     "output_type": "stream",
     "text": [
      "Epoch 1/10\n",
      "50/50 [==============================] - 363s 7s/step - loss: 1.4332 - acc: 0.6287 - val_loss: 0.5204 - val_acc: 0.8938\n",
      "Epoch 2/10\n",
      "50/50 [==============================] - 361s 7s/step - loss: 0.4970 - acc: 0.8932 - val_loss: 0.3807 - val_acc: 0.9375\n",
      "Epoch 3/10\n",
      "50/50 [==============================] - 361s 7s/step - loss: 0.5280 - acc: 0.9056 - val_loss: 0.3117 - val_acc: 0.9625\n",
      "Epoch 4/10\n",
      "50/50 [==============================] - 360s 7s/step - loss: 0.3237 - acc: 0.9324 - val_loss: 0.3596 - val_acc: 0.9375\n",
      "Epoch 5/10\n",
      "50/50 [==============================] - 359s 7s/step - loss: 0.4178 - acc: 0.9172 - val_loss: 0.2269 - val_acc: 0.9750\n",
      "Epoch 6/10\n",
      "50/50 [==============================] - 360s 7s/step - loss: 0.2927 - acc: 0.9417 - val_loss: 0.3721 - val_acc: 0.9625\n",
      "Epoch 7/10\n",
      "50/50 [==============================] - 359s 7s/step - loss: 0.5740 - acc: 0.9036 - val_loss: 0.1402 - val_acc: 0.9688\n",
      "Epoch 8/10\n",
      "50/50 [==============================] - 359s 7s/step - loss: 0.4541 - acc: 0.9212 - val_loss: 0.4260 - val_acc: 0.9563\n",
      "Epoch 9/10\n",
      "50/50 [==============================] - 360s 7s/step - loss: 0.5641 - acc: 0.9232 - val_loss: 0.1045 - val_acc: 0.9688\n",
      "Epoch 10/10\n",
      "50/50 [==============================] - 360s 7s/step - loss: 0.3623 - acc: 0.9430 - val_loss: 0.2714 - val_acc: 0.9375\n"
     ]
    }
   ],
   "source": [
    "history = model.fit(\n",
    "    train_generator,\n",
    "    steps_per_epoch=50, # a larger step is chosen to cut training time\n",
    "    epochs=10, # 10 epochs are run to analyze robustness of the model\n",
    "    validation_data=validation_generator,\n",
    "    validation_steps=10,\n",
    "    # the accuracy of the model is already higher, smaller number of steps is chosen for validation\n",
    "    callbacks=[checkpoint_v2]\n",
    ")"
   ]
  },
  {
   "cell_type": "code",
   "execution_count": 46,
   "metadata": {},
   "outputs": [
    {
     "data": {
      "image/png": "iVBORw0KGgoAAAANSUhEUgAAAYAAAAEICAYAAABWJCMKAAAABHNCSVQICAgIfAhkiAAAAAlwSFlzAAALEgAACxIB0t1+/AAAADh0RVh0U29mdHdhcmUAbWF0cGxvdGxpYiB2ZXJzaW9uMy4yLjEsIGh0dHA6Ly9tYXRwbG90bGliLm9yZy+j8jraAAAgAElEQVR4nO3dd3iUVdr48e+dDgQSSEINJUDonQAqS7cgFiyoICqIgnXXuruy66pr2fV9dd8tP8sKSLUgoiK6KCoGcFWERHoJJbSEklASQiD9/P44DzDEQCYwyUwy9+e6cmXmKec5M5BzP6c854gxBqWUUv4nwNsZUEop5R0aAJRSyk9pAFBKKT+lAUAppfyUBgCllPJTGgCUUspPaQBQSik/pQFA+QURWSoiR0Uk1Nt5UcpXaABQNZ6ItAIGAAa4vgqvG1RV11LqQmgAUP7gLmAFMBMYd2qjiDQXkY9FJFNEDovIay77JorIZhHJEZFNItLL2W5EpK3LcTNF5EXn9WARSROR34vIAWCGiNQXkc+daxx1Xse6nN9ARGaIyD5n/wJn+wYRuc7luGAROSQiPSvtW1J+RwOA8gd3Ae86P1eJSCMRCQQ+B3YDrYBmwFwAEbkFeM45rx621nDYzWs1BhoALYFJ2L+xGc77FsBJ4DWX4+cAtYHOQEPg78722cAdLseNAPYbY1a7mQ+lyiU6F5CqyUTkV0Ai0MQYc0hEtgBvYWsEC53tRaXOWQwsMsb8s4z0DBBvjNnuvJ8JpBljnhaRwcBXQD1jTN458tMDSDTG1BeRJkA6EGWMOVrquKZACtDMGHNMROYDK40x/3vBX4ZSpWgNQNV044CvjDGHnPfvOduaA7tLF/6O5sCOC7xepmvhLyK1ReQtEdktIseA5UCkUwNpDhwpXfgDGGP2Ad8DN4tIJHA1tgajlMdoJ5WqsUSkFnArEOi0yQOEApHAQaCFiASVEQT2Am3OkewJbJPNKY2BNJf3pavUTwDtgX7GmANODWA1IM51GohIpDEmq4xrzQLuxf6d/miMST/3p1Wq4rQGoGqyG4BioBPQw/npCHzn7NsPvCwidUQkTET6O+dNA54Ukd5itRWRls6+NcDtIhIoIsOBQeXkoS623T9LRBoAz57aYYzZD3wBvOF0FgeLyECXcxcAvYBHsH0CSnmUBgBVk40DZhhj9hhjDpz6wXbCjgGuA9oCe7B38bcBGGM+BF7CNhflYAviBk6ajzjnZQFjnX3n8w+gFnAI2+/wZan9dwKFwBYgA3j01A5jzEngIyAO+LiCn12pcmknsFI+TESeAdoZY+4o92ClKkj7AJTyUU6T0T3YWoJSHqdNQEr5IBGZiO0k/sIYs9zb+VE1kzYBKaWUn9IagFJK+alq1QcQHR1tWrVq5e1sKKVUtZKcnHzIGBNTenu1CgCtWrUiKSnJ29lQSqlqRUR2l7Vdm4CUUspPaQBQSik/pQFAKaX8lAYApZTyUxoAlFLKT7kVAERkuIikiMh2EXmqjP0tRWSJiKxzFt+OdbYPEZE1Lj95InKDs2+miOx02dfDsx9NKaXU+ZQ7DNRZuOJ14ArsjImrRGShMWaTy2GvArONMbNEZCjwV+BOY0widgreU/OabMeumHTKb40x8z3zUZRSSlWEOzWAvsB2Y0yqMaYAu27qyFLHdAK+dV4nlrEfYBR2XpMTF5pZpTzu2D746S3IOVD+sUrVMO4EgGbYSalOSXO2uVoL3OS8vhGoKyJRpY4ZDbxfattLTrPR30UktKyLi8gkEUkSkaTMzEw3squUmwpOwLu3whe/g793hg/Hw67vQefHUn7CU53ATwKDRGQ1doWkdOxKTAA4i193BRa7nDMZ6AD0wS628fuyEjbGTDHGJBhjEmJifvEks1IXxhhY+Gs4uAGufw363Q87voWZI+DNy2DVNMg/7u1cKlWp3AkA6djFq0+JdbadZozZZ4y5yRjTE/ijs811jdNbgU+MMYUu5+w3Vj4wA9vUpFTV+PF12DAfhv0Jet0JV70Ej2+B6/8fBATBf56Av3WARb+FzBRv51apSuFOAFgFxItInIiEYJtyFroeICLRInIqrcnA9FJpjKFU849TK0BEBLs+64aKZ1+pC5C6FL7+E3S8Hn71+JntIbWh111w33K45xvoMAKSZ8LrfWHWdbBpIRSXXj9eqeqr3ABgjCkCHsY232wG5hljNorI8yJyvXPYYCBFRLYCjbDrqQIgIq2wNYhlpZJ+V0TWA+uBaODFi/okSrnj6G748G6Ibg83vAkivzxGBJr3gZumwGObYNgzcGQnzLsT/tkNlr0CxzOqPu9KeVi1WhAmISHB6Gyg6oIVnIDpV8LRPTApEaLauH9uSTFs/RJWToXURAgIhk4joe9EaN6v7ECilI8QkWRjTELp7dVqOmilLpgx8NkjcGAD3D6vYoU/QEAgdLjG/hzabjuJ17xn+xEadYU+90C3WyGkTuXkv7KVlMDhbbBvNdSJhtZDIcDPJwo4ngnbvoKO10FYPW/nplJoDUD5hx/fgMWTYejTMPC3nkmzIBfWfwgrp8HB9RAaAT1uhz73QnRbz1yjMhgD2WmQngz7fob0n2HfGijIOXNM/Tgb1HqMhdoNvJfXqmYM7F0Jq6bCxgVQUmhreHd8DKHh3s7dBTtXDUADgKr5di6H2TdA+6vh1jmev7M1Bvb+ZJuHNn1qC43WQ2zzULvhtvbgTbmHXQr6n23Bn+s8UxMQDI27QrNe0Kw3NO0JBzfaGs6eHyEoDLqMgr732n01VcEJG8xXTYUD6yG0HnQfA9Hx8MXvoVV/W3MMruXtnF4QDQDKP2XtgSmDoXY0TFwCoXUr93rHMyB5FiTPgGPpENEcEu6GXuNs00plK8iF/WttIZ/uFPZZpxaDEohpD017OQV+L2jUBYLKfAbTFoSrpsG6eVB4Apol2KDW6QYIDqv8z1IVDu+AVW/DmncgLxsadrI1uG63nbnjX/sBfHIfxF8Bt70LQSHezfMF0ACg/E/hSZh+lR3BMzGxaptliotg6xe2VrBzGQSGQOcbbeES28czncbFhfZu/XRTzmrI3AymxO6PaG4L+abO3X2T7hfWln0yC9a+b4PB4e1QO8oOl02YAJEtLv5zVLWSYti62H6eHUvscx8dr7f/Ni0vK/vfJmkGfP6oPW7UDAisXt2nGgCUfzEGPrkf1n0AY+ZC++Hey0vmVlvYrH0f8o9B4272TrrLKPvsgTtKSuDIjjN39ft+hv3roDjf7q/VwBbypwv8XhDe0LOfo6QEdi61d8wpi+y2dsNtwdl6iO93Gucegp9n28I8ew/UbQK974be46Bu4/LPP9WP1PVWuPHf3m/aqwANAMq/rPg3fPl7GPJHGPQ7b+fGyj9uA9KqaZCxCcIioecd9k7adVSSMXaSulPt9ac6afOz7f7g2tCkx5lmnGa9IbJl1Q5Fzdprm7mSZ8GJQ9CgjQ0EPcZArfpVl4/yGGO/w5VTYePHUFwArQbYvHa4BgKDK5be8lfh2xdsk951/6w2w381ACjLGFvtbdbbt/5QPWnndzB7ZOV1+l4sY2D3D7bDcfNnUFIEbS+3TUP719oC/7gzO2lAEDTq7HTQOoV9THvfufssyrcd3yunQtpKCKoF3W6BPhOhSTfv5avwJGz4yOZr/xoICbedun3ugYYdLy7tJc/Dd3+Dfg/A8L9WiyCgAUDZP9bPHrFNEfXj7KiGmHbezpVnZe11On0bwL1LfH/8ds6BM53GOfshKt5lRE4vO0KnunS47l9rC9z186HopB0+2WcidLr+3B3NnnYk1TZRrX4H8rIgpoO92+8+2nMDAIyBLyfDT2/CgCfsk+I+TgOAvzueCR+MtcMV+06CjZ9AUQHcMgPaDvN27jyj8CRMH25HdkxKtEP4qoviIijKq9ZjzU87edQ+JLdqmi2Q68Sc6TSOiPX89UqKYfs3Nvhs/wYkADpea4NPq19Vzh26MbZTOHmmZ58tqSQaAPzZgQ3w/hg79vvGf0PnG+zwyPfHQMZmGP6y7ZSsBlXZczIGFjwIa9+D0e/bidyUd5WUQOq39kG5rV/a/1/tRzidxoMv/v/biSOweo6948/aDeGNoPd4+1Ov6cXnvzwlJbDAGWhw1V/h0gcr/5oXSKeC8FcpX8BH99rq74QvzjzME9kCJiyGjyfCF7+1wwev/t+Kd4r5ipVTbeE/eLIW/r4iIMD2bbS93E7ClzTdjsLZ8rlt6jrVaRwWUbF005Ntob/hI1tratkfLn/OTtlQlf9/AwJg5Bu25rl4sn1ILOHuqru+B2gNoKYyBn74F3z9LDTtYe+K6zX55XElJbDkz/D9PyBuINwyq/o9+r/re5h9PcRfaR/U8bVOX3VGYZ5tflw1DdKTILiOnUOp70Tb2X3e8z62gX7fz/a87rfZIHK+86pCUYFtXt32ta1hdx/t3fyUQZuA/ElRPnz+GKx51z58NPKN8sebr3nPdhBHNIfbP6g+7efZabbTNyzSPulb0btJ5T37VtvmoQ3z7Z18i8vslBMdrjvztO3RXU7NYQ6cPALR7c506vrSv3XhSXjvVtj1X/ugWOcbvJ2js2gA8Be5h+CDO+w8LoMnw6Dfu9/WumcFzB1r57K5ZRa0GVK5eb1YhXkw42o4tA0mflvzRjT5ixNH7KidpLdtgR/eyE6ql7HZPrErAbZZr89EW0v11b6q/OPwzk22iWr0e9DuKm/n6DQNAP7g4CZ4/zY7H80Nb0CXmyuextHd8P5ouwzi1f9jq+a+yBj49GE7h8vo9+xDPap6Kymxz6isnGqnYa4TY5/S7X03RDTzdu7ck5cNs663wWvsPNvZ7QM0ANR0WxfD/An2gZcx79lx5BcqP8d2HG/90t51DX/Z9+Y+WTkVFj1pazhD/uDt3ChPyz1sBy5Uw4nXOHEEZl5jazN3fgItLvF2js4ZALS3rLozBn54Dd67zU4nMCnx4gp/sH94o9+Dy35jn1Z992Y7tttX7P4RvnzKzkMz6Clv50ZVhjpR1bPwBzuI4s4FdijqO6Psk90+SgNAdVZUAAsfhq/+aJ+2vPtLz41/DgiEK1+Aka/bUTbTLrcPWHlbdjrMuwvqt7Jr9uqIH+WL6jaCuxZC7fq2X+DgRm/nqExu/fWIyHARSRGR7SLyi1suEWkpIktEZJ2ILBWRWJd9xSKyxvlZ6LI9TkR+ctL8QESqabj3ktzDMOcG23k28Hcwaqb7M0tWRM87YNxCW62dOhRSl3n+Gu4qyrcLsxeesMM9fWkUiFKlRTSzQSColp2b6tA2b+foF8oNACISCLwOXA10AsaISKdSh70KzDbGdAOeB/7qsu+kMaaH83O9y/b/Af5ujGkLHAXuuYjP4V8ytsC0oZCWBDe/DUP/WLl3wi0vs6Ns6ja2dzNJ0yvvWudiDPznCTvC4sZ/Q8MOVZ8HpSqqQRzc9al9Pet62y/gQ9wpNfoC240xqcaYAmAuMLLUMZ2Ab53XiWXsP4uICDAUmO9smgX41sBZX7Xta3j7Cjvu+O5F0HVU1Vy3QRzc8zW0GWqfMVj0Ozt/TVVJmm4f+x/4W/vEp1LVRUw72ydQeAJmXWebMX2EOwGgGbDX5X2as83VWuAm5/WNQF0RiXLeh4lIkoisEJFThXwUkGWMOVWClJUmACIyyTk/KTMz043s1lDG2AUp3rsV6re0d+Sxv+jUr1xh9eziKpc8BCvfgvdusatFVbY9K+y6rPFX2mcblKpuGneBOz+GE0ftU+vHM7ydI8BzncBPAoNEZDUwCEgHip19LZ3hR7cD/xCRNudIo0zGmCnGmARjTEJMTIyHslvNFBXYp3QXT7bj3ScsrpxZFd0REAjD/wLX/csutv72FZXbOXxsv+30jWwON031nXnwlaqoZr1h7Id2sZ/ZN9h+NS9zJwCkA81d3sc6204zxuwzxtxkjOkJ/NHZluX8Tnd+pwJLgZ7AYSBSRILOlaZynDhi291/ngUDnoRbZkNIHW/nyj6gc+cCO8PotGF2ERZPO9Xpm3/cDkutFen5ayhVlVpeav8vH94Oc260D455kTsBYBUQ74zaCQFGAwtdDxCRaBE5ldZkYLqzvb6IhJ46BugPbDL26bNE4FQD9jjg04v9MDVOZoodebN3pb37HfYn3xr2GDfANkXVibEjkpJnejb9Rb+FtFVw45sXv4qTUr6izRC4bQ4c3ADv3goFuV7LSrmlidNO/zCwGNgMzDPGbBSR50Xk1KiewUCKiGwFGgEvOds7AkkishZb4L9sjNnk7Ps98LiIbMf2Cbztoc9UM2z/xo69LzgO4z+3Myb6ogat4d5vIG6Qbab6crJnOoeTZji1nieg03nHFChV/bS7Cm6eZpfRfH+0HdThBToVhK8xBlZOsU+6NuwMY9637d++rrgIvnraLpPX9goY9faFj9PfuxJmjLDzqNz+gbb7q5przft2UZlTU5lX0tPPOhVEdVBcaIdYfvE7aHc1TPiyehT+YOcKuvpluPbvkJoI066wywFW1LH98MGdtpP7Zu30VTVcjzH2b2bbV/DRPWXWnotLDN9vP1Qpl9cA4CtOdfYmz4BfPQa3vVM914dNmGAnwDp+EKYOs9NIuKuowI74yc9xOn3rV14+lfIVCRPgqr/A5oXw6UN2VlQgr7CYOSt2M/RvSxk77SfWpXl+yLWPTfHopw5ts+P7s9Pgxrd8ckWhCokbaDuH37vNPgJ/7f/ZRcHL88XvbJvoLTOhUemHzZWqwS59CApOQOKL5BHCW3V/zawVuzmSW0D35pFMvroDnZt6fuoTDQDetuNbmDfermU67nNo0c/bOfKMqDa2c/jD8bDw13ZE0xXPn7tJJ3nmmdpP5xurMqdK+YS9XR5k16ZdDFg3m/CiTHq2eZxJg9rQN64BUkmL4GgA8KaVU+0TrjEd4Pa5dqH2mqRWJIydbx9g+/E1OLTVzl0UVu/s4/auskM+2wyDoX/yTl6V8pL1adm8tXwHi9bvJzBgBNMbneSeIx9xT4vO0Lpy/x40AHhDcaEd5bNqmu3svXmqnYO/JgoMghGvQEx7O3/Q21faYFe/ld2fc9A+7FWvqR0Wp52+yg8YY1i+7RBvLdvBDzsOUzc0iIkDWnN3/zga1xsBn9WB716F4Fow8MlKy4cGgKp28ijMGwc7l0H/R2DYs/5R6PW5Fxq0gQ/H2YfbbnvXPho/7y77NOQ9X9uFNJSqwQqLS/hs7T6mLE9ly4EcGtULZfLVHRjTrwX1woLPHHjtP+yzAd++AMG14dIHKyU/GgCq0qHtds3eo7th5BvQc6y3c1S12gyBe7+1Hd6zrrNL5e1dAaNm2Mmy/FheYTGFxSXUdS0EVI1xPL+IuSv3MP2/O9mXnUd8w3BeGdWNkT2aERJUxmDMgEC44d82CCyebNf66D3e4/nSAFBVcg/DzBFQUgTjPrNzgvij6LYwccnZtaAuN5V/Xg1kjGHN3izmJ6fx2dp9BAUGMHtCX7o004VuaoqMnDxmfr+Ld1bs5lheEf3iGvDijV0Y3K4hAQHldOwGBsGo6TB3LHz2qH0wtHkfj+ZPnwSuCsbY0TBb/mPX7G3c1ds58r7iQjvNc8vL/KMJzMXBY3l8sjqd+clpbM84TlhwAFd1bkzSrqPk5BUya0JferbQZyCqsx2Zx5m6PJWPf06nsKSE4Z0bM2lg6wv7dy08CWves88LXOBooHM9Caw1gKqw4SPYtMC292vhbwUG28nk/EReYTHfbD7I/OQ0lm/NpMRAQsv6vHxTV0Z0a0K9sGDSs04yduoK7pj2E2+P78MlraPKT1j5lOTdR/j3slS+2XyQkMAAbkmI5d4BrYmLvogZfINrQZ/KWTBRawCV7dg+eOMSiG5vp3bws7tdf2aMYV1aNvOT01i4dh/ZJwtpEhHGzb1iubl3bJmFQsaxPMZO+4m9R08w5c4EBrbz0zUwqpGSEsM3mw/y1vJUkncfJbJ2MHdd0pK7LmtFdHiot7MHaA3AO4yxD0EVF9p1bLXw9wsZOXkscJp4th48TmhQAMO7NGZU71guaxNN4HnafhvWC2PupEu48+2V3DsridfH9uKKTo2qMPfKXXmFxSxYnc6U71JJzcylWWQtnruuE7f2aU7tkOpRtFaPXFZXyTPstM4jXrVPxioAiopLSN59lLVpWbSKqkP35pE0qhfm7WxdlPyiYpZszmB+chrLtmZSXGLo1SKSv97UlWucJh53RYWH8v7ES7hrxkoeeCeZv9/Wg+u6N63E3KuKyD5RyDs/7WbmD7vIzMmnc9N6/GtMT0Z0aUxQYPWaXk0DQGU5kgqLn7ZTGidUTvtddXL4eD5LUzJJTMlg+dZMjuWdPeth43phdIuNoHvzSLrHRtI1NoKIWr49JNIYw4b0Y3yYvJdP19gmnsb1wrhvYGtu7h1Lm5gLn8wvonYw79zTl3tmJvHI3NXkF5UwqreXlgFVAKRnnWT6f3cyd+UecguKGRAfzT9u68FlbaIqbaqGyqYBoDKUFMOCByEgCEa+7lureFURYwwb9x3j2y0ZfLslg7VpWRgDMXVDGd6lMUPaNyShVQP2HMll7d5s1qZlsS4tm682HTydRuvoOqeDQrfYSDo3rUdYsPeb0TJy8vh09T7mJ6eRcjCHkCA7iueW3rH0b3v+Jp6KqBsWzKwJfZk0J4knP1xLXmExd1zS0iNpK/dt3n+MqctTWbh2Hwa4rlsTJg5sXSmTs1U1DQCV4cfXYM+PdmZPby3e7gXH84v477ZMvt2SwdKUTDJy8hGBbrGRPDqsHUM7NKRz03pnjX+OqRtK75ZnngDOPlHIunQbDNbszeKHHYdZsGYfAEEBQvvGdekWG0mP5hF0i40kvmF4lVS7C4pK+HaLHcWTmGKbeHq2iOSlG7twbbemlVZbqRUSyNS7Enj4vZ95esEG8gqLuXdA60q5lj8qKi7hyIkCjuQWcOR4AYdyCzhyPJ8jufZ1auZxVqQeoXZIIHdd2ooJv2pFbP3a3s62x+goIE87uAmmDHJW+HnngsftVgfGGFIP5ZK4JYPElAxW7jxCYbGhblgQA9vFMLR9Qwa1j7nokRAHsvNYm5bF2r02MKxNyyLHaUKqFRxIl2b16B4bSbfmkXSPjaBFg9oeqZKfqsXMT07j0zXpHD1RSMO6odzUK5ZRvWNp27Dq1msoLC7h0blr+M/6/TxxRTt+PSy+yq5dnRQVl3D0RCFHcgs4fDyfw87vI7kFzusC57Xdl3WisMx0RKBB7RBi6oZyXfemjO3XgsjalbNaV1XQUUBVoagAPrkPQuvBdf+skYV/flExP6Ue4Vun0N99+AQA7RqFM6F/HEM6NKR3y/oEe/CuvHFEGI0jGnNV58aAHXa363Du6VrCurQs5qzYTf5/dwIQWTvY1hJibS2hW/MIGtZ1v5P50PH806N4thywTTxXdmrEqN6x/KpttFc6+oIDA/jn6B6EBgfwt6+3crKwmN9e1b7atj2766wCPTffpQB3KdiP231HcgvIOllIWfe0IlC/dggN6oQQVSeE9o3rElUn1L4PDyn1OoTI2iEea8rzZRoAPGn5K3BgnZ3orE60t3PjMfuzT5K4xTbt/LDjECcKigkNCuCyNlHc+6s4BrdvSPMGVVctDggQWseE0zomnBt6NgPsHXLKgRxbQ9ibxdq0LF5LtA9cATSNCDvdl9A9NoKusRFnzbtTUFRCYkoGHyalsTQlg6ISQ/fmkbx4Qxeu69aUiNre75AOCgzg1VHdCQsO5I2lOzhZWMwz13aqcUFg7d4sXlq0mW0Hc9wq0Bs4Bbp9HUp0+KmCPpQo53V9PynQK8qtACAiw4F/AoHANGPMy6X2twSmAzHAEeAOY0yaiPQA3gTqAcXAS8aYD5xzZgKDgGwnmfHGmDUX/Ym8JS0ZvvsbdL8dOl7r7dxclOISw+o9R527/Ew27z8GQLPIWtzcK5ahHRpySesoaoV4v0P2lODAALo0i6BLswhu72fXVThRUMTGfcecgJDNurQsvthwALAFSOtoOwS1TkgQ/1m/nyO5BcTUDeWeAXGM6hVLfCPfm6I7IEB46YYuhAUFMv37neQVlvDSDV3Kn1emGsjJK+RvX21l1o+7iAkPZUTXJkSFhxLl3Jm7FuqRtYKr3ZBLX1RuH4CIBAJbgSuANGAVMMYYs8nlmA+Bz40xs0RkKHC3MeZOEWkHGGPMNhFpCiQDHY0xWU4A+NwYM9/dzPpsH0DhSfj3APv7wR8grPqNDjiaW8BypwN32dZMsk4UEhggJLSsz9AODRnSoSHxDcOr/d3m0dwC1qVnO/0JWazZm82xk4Vc0akRoxJiGeClJp6KMsbwt6+28lridm7s2YxXRnWrFvkuizGGxRsP8tzCjRzMyeOuS1ryxFXtK/TshDq/i+kD6AtsN8akOgnNBUYCm1yO6QQ87rxOBBYAGGO2njrAGLNPRDKwtQTPr27sTd/8GQ5vg7s+rTaFvzGGzftzSEyxwzRX7zlKiYGoOiEM7dCQoR0aMiA+xufH4ldU/TohDGoXwyBnigVjDEUlxqN9FlVBRHjyqvbUCgnklcUp5BUW88/RPcueWtiHpWed5NlPN/LN5oN0aFyXN+/opRPhVSF3AkAzYK/L+zSg9MK1a4GbsM1ENwJ1RSTKGHP41AEi0hcIAXa4nPeSiDwDLAGeMsbkl764iEwCJgG0aOGDSybuXA4/vQl9J9mHvnzckdwC/rVkG4s3HmB/dh4AXZtF8PDQeIZ2aEi3ZhE1ojnBXSJCcGD1/bwPDWlLWHAgL3y+ifx3knljbC+feFaiPEXFJcz6cTd/+yoFY+APIzpwd/+4aheIqztPdQI/CbwmIuOB5UA6ts0fABFpAswBxhljSpzNk4ED2KAwBfg98HzphI0xU5z9JCQk+NaY1bxjsOAhu9LV5X/2dm7K9eWGAzy9YD3ZJwsZ1qERj13ekMHtY2hYzadh8Hf3/CqOsOAAnl6wgXtnJTHlrt4+PRfN+rRsJn+yjg3pxxjcPoYXRnap0kEE6gx3/pekA81d3sc6204zxuzD1gAQkXDgZmNMlvO+HvAf4I/GmBUu5+x3XuaLyAxsEKleFk+GY2kw4Su7Yo+POppbwLMLN7Jw7T46N8jmfREAACAASURBVK3HnHv60bFJvfJPVNXG2H4tCQsK5Lfz1zJu+kqmj+/jc6uLHc8v4v++2srMH3YSFR7K67f3YkTXxtW+X6k6cycArALiRSQOW/CPBm53PUBEooEjzt39ZOyIIEQkBPgEmF26s1dEmhhj9ov9178B2HCxH6ZKpXwBq9+BAU94fJUeT1q88QB//GQD2ScLePyKdjwwuI1Ws2uom3vHEhYcyCNzV3PHtJ+YNaGvzzy89NXGAzy7cCMHjuUxtl8LfntVhxrXv1QdlRsAjDFFIvIwsBg7DHS6MWajiDwPJBljFgKDgb+KiME2AT3knH4rMBCIcpqH4Mxwz3dFJAYQYA1wv+c+ViXLPQwLfwONusKgp7ydmzIdzS3guc828umafXRqUo859/TVu34/cE23JoQGBfDguz8zesoK3rm3n1fnpN+fbTt5v9pkO3lfu70XvVtqJ6+v0KkgKsoY+HAcbFkEk5b65GLmX208wB8+2UDWiQJ+PTSeB4foXb+/+W5bJhNnJ9EsshbvTbykyqfbLi4xzP5xF68uTqHYGB4Z1o57B2gnr7foVBCesn4+bPrUWd7Rtwr/rBMFPLdwIwucu/7ZE/rSqane9fujAfExzLq7LxNmruLWt37k3Xv7VdkkZhvSs/nDJ+tZl5bNwHYxvDiyCy2ifLePzJ9pDaAifHh5x683HeQPn6znaG4BDw9ty4OD21a7MeHK81bvOcq46SsJDw3ivYmX0Opi1qYtR25+EX//eivTv99JgzqhPHNdJ67r1kQ7eX3AuWoAWkK4yxj49GGfW94x60QBj32whomzk4gOD+XTh/vz6OXttPBXAPRsUZ/3J11CXlEJt771I9sO5lTKdZZsPsiVf1/OtP/uZHTfFix5fBDXd2+qhb+P01LCXUnTYccSuOJ5n1ne8ZtN9o/us7X7eGRYPJ8+1L9GLFKhPKtz0wg+mHQJBrhtygo2pGeXe467Dh7L44F3krlnVhJ1QgOZf/+l/OXGrj4xeZ4qnzYBueNIKrz5K2jeF+78xOvTPGefKOTPn23k49XpdGhcl1dv6U6XZlrwq/PbeSiXsVNXcDy/iFkT+l7UlAvFJYZ3f9rN/36ZQmFxCb8ZFs/EAa215umjtBP4QpUUwycPnFne0cuF/5LNB5n88XoO5xbwm6FteXhovP7RKbfERddh3v2XMnbaT9wx7Semj+9Dv9ZRFU5n075jTP5kPWv3ZjEgPpoXRnap1L4FVXk0AJTnx9dg7wpnecdmXstG9olC/vz5Rj7+2d71Tx/fR+/6VYXF1q/NvPsu5fapKxg3YyVT7kxgoDMxXnlOFBTxz2+2Me2/O4msFcw/R/fQdv5qTgPA+RzcCN++CB2uhW63eS0b326xd/2Hjutdv7p4jeqF8cF9l3Ln2yu5d1YSb4ztxeWdGp33nMQtGTy9YAPpWScZ3ac5T13dwWeeMlYXTkuRczm1vGNYhNeWd8w+WcgT89YyYWYSkbVCWPBgfx6/sr0W/uqiRYeH8v7EfnRsUpf730nm83X7yjwu41geD733M3fPXEWtkEDm3XcpL9/cTQv/GkJrAOey/H/hwHoY/Z5XlndM3JLBUx+v49DxAh4e0pZfD2tLaJBvDD1VNUNk7RDeubcfE2au4jfvrya/sISbe8cCdt3ld1fu4X+/2EJ+cQlPXNGO+wa10ZuPGkYDQFnSkuG7/7PLO3a4pkovnX2ykBc+38T85DTaNQpn6l0JdIuNrNI8KP9RNyyYWRP6MnF2Ek98uJa8omJ6t6zP5I/Xs3pPFpe1ieKlG7sSp528NZIOAy2t4AS8NdAryzsmpmQw+aP1ZB7P5/5BrfnNsHi961dVIq+wmAff/Zlvt2QQGCBE1Arm6Ws6cmPPZtrJWwPoMFB3Lan65R2zTxby0n82MS/J3vVPuau33vWrKhUWHMi/7+jNsws3IgK/vbI99etoO39NpwHAVeoy+Onf0Pe+KlvecWlKBk99tJ6MnDweHNyGRy7Xu37lHSFBAfz1pq7ezoaqQhoATsnLhk8fgqi2cPlzlX65Y3mFvPi5veuPbxjOW3f2p3tzvetXSlUdDQCnfPkHOJZeJcs7LtuayVMfrbPzqAxuwyPD4qvFQt5KqZpFAwDY5R3XVP7yjsfyCvnLfzYzd9Ve2jYM5+MH+9ND7/qVUl6iASD3ECz8dZUs73jHtJ/YkJ7N/YPa8OjletevlPIu/w4AxsDnj9n2/zsXQFDljXrYeSiXdWnZPH1NR+4d0LrSrqOUUu5y67E+ERkuIikisl1EfnGbLCItRWSJiKwTkaUiEuuyb5yIbHN+xrls7y0i6500/yXeGGy8/kPYvBCG/KHSl3dM3JIBwJWdGlfqdZRSyl3lBgARCQReB64GOgFjRKRTqcNeBWYbY7oBzwN/dc5tADwL9AP6As+KyKlJyN8EJgLxzs/wi/40FXFsHyx6Epr3g8t+U+mXS0zJoE1MHV0bVSnlM9ypAfQFthtjUo0xBcBcYGSpYzoB3zqvE132XwV8bYw5Yow5CnwNDBeRJkA9Y8wKYx9Fng3ccJGfxX2uyzve8GalL+94oqCIn1KPMKR9w0q9jlJKVYQ7AaAZsNflfZqzzdVa4Cbn9Y1AXRGJOs+5zZzX50sTABGZJCJJIpKUmZnpRnbdUMXLO/6w/TAFxSUM1gCglPIhnpra70lgkIisBgYB6UCxJxI2xkwxxiQYYxJiYtxbuOK8Du+Ar56G1kOgz70Xn54bElMyqB0SSJ+4C1+CTymlPM2dUUDpQHOX97HOttOMMftwagAiEg7cbIzJEpF0YHCpc5c658eW2n5WmpWipBgWPAgBwVW2vKMxhqUpmfRvG61TPCilfIo7NYBVQLyIxIlICDAaWOh6gIhEi8iptCYD053Xi4ErRaS+0/l7JbDYGLMfOCYilzijf+4CPvXA5zm/H/6fXd5xxCtVtrzj9ozjpGed1PZ/pZTPKTcAGGOKgIexhflmYJ4xZqOIPC8i1zuHDQZSRGQr0Ah4yTn3CPACNoisAp53tgE8CEwDtgM7gC889aHKdHAjJL4EHa+DbrdW6qVcJabY4Z+D23ug+UoppTzIP9YDKCqAaUMh5wA8uKJKV/gaM2UFR08U8OWjA6vsmkop5epc6wH4x/puy/7HLu943T+rtPDPyStk1a4jOvpHKeWT/CMAFOdDjzuqfHnH77cfoqjEMESbf5RSPsg/5gK68kUoKanyyyZuyaRuWBC9WurwT6WU7/GPGgBAQNV+VGMMiSkZDIiPJjjQf75mpVT1oSVTJdm0/xgZOfna/q+U8lkaACrJ0hQ7bcXgdtr+r5TyTRoAKsnSlAy6NKtHw3ph3s6KUkqVSQNAJcg+UUjy7qP69K9SyqdpAKgEy7dlUmLQ9n+llE/TAFAJElMyiKwdrAu+K6V8mgYADyspMSxLyWRQuxgCA6p+lUullHKXBgAPW5+ezeHcAp38TSnl8zQAeFhiSgYiMDBeA4BSyrdpAPCwpSmZdI+NJCo81NtZUUqp89IA4EGHj+ezNi1Lh38qpaoFDQAetHxbJsbAkA7a/KOU8n0aADwocUsm0eEhdGka4e2sKKVUuTQAeEhxiWHZ1kwGtWtIgA7/VEpVAxoAPGTN3qNknyzU5h+lVLXhVgAQkeEikiIi20XkqTL2txCRRBFZLSLrRGSEs32siKxx+SkRkR7OvqVOmqf2Veue08QtmQQGCAPaagBQSlUP5a4IJiKBwOvAFUAasEpEFhpjNrkc9jQwzxjzpoh0AhYBrYwx7wLvOul0BRYYY9a4nDfWGHMBq7z7nsSUDHq1iCSidrC3s6KUUm5xpwbQF9hujEk1xhQAc4GRpY4xQD3ndQSwr4x0xjjn1jgZx/LYuO+YTv6mlKpW3AkAzYC9Lu/TnG2ungPuEJE07N3/r8tI5zbg/VLbZjjNP38SkTJ7TkVkkogkiUhSZmamG9mteku32nzp+H+lVHXiqU7gMcBMY0wsMAKYIyKn0xaRfsAJY8wGl3PGGmO6AgOcnzvLStgYM8UYk2CMSYiJ8c329aUpGTSqF0rHJnW9nRWllHKbOwEgHWju8j7W2ebqHmAegDHmRyAMiHbZP5pSd//GmHTndw7wHrapqdopLC7hu62HGNK+IeeoxCillE9yJwCsAuJFJE5EQrCF+cJSx+wBhgGISEdsAMh03gcAt+LS/i8iQSIS7bwOBq4FNlANJe8+Sk5+kbb/K6WqnXJHARljikTkYWAxEAhMN8ZsFJHngSRjzELgCWCqiDyG7RAeb4wxThIDgb3GmFSXZEOBxU7hHwh8A0z12KeqQokpGQQHCv3bRnk7K0opVSHlBgAAY8wibOeu67ZnXF5vAvqf49ylwCWltuUCvSuYV5+0dEsmfVo1oG6YDv9USlUv+iTwRdiXdZKUgzm6+ItSqlrSAHARlqbo8E+lVPWlAeAiJKZk0CyyFm0bhns7K0opVWEaAC5QflEx328/xJAOMTr8UylVLWkAuECrdh7lREGxNv8opaotDQAXKDElg5CgAC5to8M/lVLVkwaAC5SYksElraOoHeLWSFqllPI5GgAuwO7DuaRm5jJEh38qpaoxDQAX4NTwT53+QSlVnWkAuABLUzJoFVWbuOg63s6KUkpdMA0AFZRXWMwPOw7r3b9SqtrTAFBBP6YeJr+ohCEdNAAopao3DQAVtHRLBmHBAfSLa+DtrCil1EXRAFABxhgSUzLp3yaasOBAb2dHKaUuigaACkg9lMueIycYrM0/SqkaQANABSRuyQBgcDsd/6+Uqv40AFTA0pRM4huG07xBbW9nRSmlLpoGADfl5hexcucRXfxFKVVjaABw0w87DlNQXKKzfyqlagy3AoCIDBeRFBHZLiJPlbG/hYgkishqEVknIiOc7a1E5KSIrHF+/u1yTm8RWe+k+S/x8Un1E1MyqBMSSEIrHf6plKoZyg0AIhIIvA5cDXQCxohIp1KHPQ3MM8b0BEYDb7js22GM6eH83O+y/U1gIhDv/Ay/8I9RuYwxLN2Swa/iowkJ0kqTUqpmcKc06wtsN8akGmMKgLnAyFLHGKCe8zoC2He+BEWkCVDPGLPCGGOA2cANFcp5Fdp68Dj7svO0+UcpVaO4EwCaAXtd3qc521w9B9whImnAIuDXLvvinKahZSIywCXNtHLSBEBEJolIkogkZWZmupFdz0tMcYZ/agBQStUgnmrPGAPMNMbEAiOAOSISAOwHWjhNQ48D74lIvfOk8wvGmCnGmARjTEJMjHdG4CRuyaBjk3o0jgjzyvWVUqoyuBMA0oHmLu9jnW2u7gHmARhjfgTCgGhjTL4x5rCzPRnYAbRzzo8tJ02fcCyvkKTdR3XxF6VUjeNOAFgFxItInIiEYDt5F5Y6Zg8wDEBEOmIDQKaIxDidyIhIa2xnb6oxZj9wTEQucUb/3AV86pFP5GHfbztEcYnR5h+lVI1T7oK2xpgiEXkYWAwEAtONMRtF5HkgyRizEHgCmCoij2E7hMcbY4yIDASeF5FCoAS43xhzxEn6QWAmUAv4wvnxOYkpGdQNC6JXi0hvZ0UppTzKrRXNjTGLsJ27rtuecXm9CehfxnkfAR+dI80koEtFMlvVTs3+ObBdDEGBOvxTKVWzaKl2Hhv3HSMzJ1+HfyqlaiQNAOex1Bn+OUhn/1RK1UAaAM4jMSWTbrERxNQN9XZWlFLK4zQAnMPR3AJW7zmqo3+UUjWWBoBzWL4tkxKDjv9XStVYGgDOYVlKJg3qhNAtVod/KqVqJg0AZSgpMSzdmsnA+GgCA3x6lmqllLpgGgDKsC49myO5BQzRxd+VUjWYBoAyJG7JQAQGxmv7v1Kq5tIAUIalKRn0bB5J/Toh3s6KUkpVGg0ApWTm5LM2LVuf/lVK1XgaAEpZvtUuOqPt/0qpmk4DQCmJKRnE1A2lU5MKrVujlFLVjgYAF0XFJXy37RCD28UQoMM/lVI1nAYAF2v2ZpF9slCnf1BK+QUNAC4SUzIIDBB+FR/t7awopVSl0wDgInFLJr1b1ieiVrC3s6KUUpVOA4DjQHYem/Yf0+GfSim/oQHAsWyrXfxlSAd9+lcp5R80ADgSt2TSJCKM9o3qejsrSilVJdwKACIyXERSRGS7iDxVxv4WIpIoIqtFZJ2IjHC2XyEiySKy3vk91OWcpU6aa5wfr7W9FBSV8N/thxjcviEiOvxTKeUfgso7QEQCgdeBK4A0YJWILDTGbHI57GlgnjHmTRHpBCwCWgGHgOuMMftEpAuwGGjmct5YY0ySZz7KhUvefZTj+UW6+ItSyq+4UwPoC2w3xqQaYwqAucDIUscY4NSjsxHAPgBjzGpjzD5n+0agloj43AK7S1MyCA4ULmurwz+VUv6j3BoA9o59r8v7NKBfqWOeA74SkV8DdYDLy0jnZuBnY0y+y7YZIlIMfAS8aIwxpU8SkUnAJIAWLVq4kd2KS0zJoG9cA8JD3fk6lFKeUFhYSFpaGnl5ed7OSo0RFhZGbGwswcHuDWX3VIk3BphpjPmbiFwKzBGRLsaYEgAR6Qz8D3ClyzljjTHpIlIXGwDuBGaXTtgYMwWYApCQkPCLAHGx0o6eYOvB49ya0NzTSSulziMtLY26devSqlUr7XvzAGMMhw8fJi0tjbi4OLfOcacJKB1wLR1jnW2u7gHmOZn4EQgDogFEJBb4BLjLGLPDJbPpzu8c4D1sU1OVW5piZ//U6R+Uqlp5eXlERUVp4e8hIkJUVFSFalTuBIBVQLyIxIlICDAaWFjqmD3AMCcTHbEBIFNEIoH/AE8ZY753yWiQiJwKEMHAtcAGt3PtQUtTMmjeoBZtYup44/JK+TUt/D2rot9nuQHAGFMEPIwdwbMZO9pno4g8LyLXO4c9AUwUkbXA+8B4pz3/YaAt8Eyp4Z6hwGIRWQeswdYoplYo5x6QV1jM99sPM0SHfyql/JBbfQDGmEXYoZ2u255xeb0J6F/GeS8CL54j2d7uZ7NyrNx5hJOFxTr9g1J+6PDhwwwbNgyAAwcOEBgYSEyMHQq+cuVKQkLOvSRsUlISs2fP5l//+td5r3HZZZfxww8/eC7THubXw16WpmQSGhTAJa2jvJ0VpVQVi4qKYs2aNQA899xzhIeH8+STT57eX1RURFBQ2UVkQkICCQkJ5V7Dlwt/8PsAkMGlbaKoFRLo7awo5df+/NlGNu075tE0OzWtx7PXda7QOePHjycsLIzVq1fTv39/Ro8ezSOPPEJeXh61atVixowZtG/fnqVLl/Lqq6/y+eef89xzz7Fnzx5SU1PZs2cPjz76KL/5zW8ACA8P5/jx4yxdupTnnnuO6OhoNmzYQO/evXnnnXcQERYtWsTjjz9OnTp16N+/P6mpqXz++ece/S7OxW8DwK5DuaQeyuWuS1t6OytKKR+SlpbGDz/8QGBgIMeOHeO7774jKCiIb775hj/84Q989NFHvzhny5YtJCYmkpOTQ/v27XnggQd+MRZ/9erVbNy4kaZNm9K/f3++//57EhISuO+++1i+fDlxcXGMGTOmqj4m4McBYGmKnf1Th38q5X0VvVOvTLfccguBgbZVIDs7m3HjxrFt2zZEhMLCwjLPueaaawgNDSU0NJSGDRty8OBBYmNjzzqmb9++p7f16NGDXbt2ER4eTuvWrU+P2x8zZgxTpkypxE93Nr+dDTQxJZPW0XVoFa3DP5VSZ9Spc6ZM+NOf/sSQIUPYsGEDn3322TnH2IeGnpnhJjAwkKKiogs6pqr5ZQA4WVDMj6mH9e5fKXVe2dnZNGtm56+cOXOmx9Nv3749qamp7Nq1C4APPvjA49c4H78MAD+mHqKgqEQXf1FKndfvfvc7Jk+eTM+ePSvljr1WrVq88cYbDB8+nN69e1O3bl0iIiI8fp1zkTLmX/NZCQkJJinp4meP/tOCDcxPTmPNs1cQGqQjgJTyhs2bN9OxY0dvZ8Prjh8/Tnh4OMYYHnroIeLj43nssccuOL2yvlcRSTbG/GLcqt/VAIwxJKZk0L9ttBb+Simvmzp1Kj169KBz585kZ2dz3333Vdm1/W4U0I7MXNKOnuSBwW28nRWllOKxxx67qDv+i+F3NQAd/qmUUpbfBYDElAzaNQqnWWQtb2dFKaW8yq8CwPH8IlbuPKKTvymlFH4WAL7ffojCYqPNP0ophZ8FgKUpGYSHBpHQqr63s6KU8rIhQ4awePHis7b94x//4IEHHijz+MGDB3NqGPqIESPIysr6xTHPPfccr7766nmvu2DBAjZt2nT6/TPPPMM333xT0ex7hN8EAGMMiVsyGRAfTXCg33xspdQ5jBkzhrlz5561be7cuW5NyLZo0SIiIyMv6LqlA8Dzzz/P5ZdffkFpXSy/GQa65UAOB47lafu/Ur7oi6fgwHrPptm4K1z98jl3jxo1iqeffpqCggJCQkLYtWsX+/bt4/333+fxxx/n5MmTjBo1ij//+c+/OLdVq1YkJSURHR3NSy+9xKxZs2jYsCHNmzend2+71tXUqVOZMmUKBQUFtG3bljlz5rBmzRoWLlzIsmXLePHFF/noo4944YUXuPbaaxk1ahRLlizhySefpKioiD59+vDmm28SGhpKq1atGDduHJ999hmFhYV8+OGHdOjQ4aK/Ir+5FT61+Pug9jr9g1IKGjRoQN++ffniiy8Ae/d/66238tJLL5GUlMS6detYtmwZ69atO2caycnJzJ07lzVr1rBo0SJWrVp1et9NN93EqlWrWLt2LR07duTtt9/msssu4/rrr+eVV15hzZo1tGlz5nmkvLw8xo8fzwcffMD69espKirizTffPL0/Ojqan3/+mQceeKDcZiZ3+U0NIDElg85N69GoXpi3s6KUKu08d+qV6VQz0MiRI5k7dy5vv/028+bNY8qUKRQVFbF//342bdpEt27dyjz/u+++48Ybb6R27doAXH/99af3bdiwgaeffpqsrCyOHz/OVVdddd68pKSkEBcXR7t27QAYN24cr7/+Oo8++ihgAwpA7969+fjjjy/6s4ObNQARGS4iKSKyXUSeKmN/CxFJFJHVIrJOREa47JvsnJciIle5m6YnZZ8sJHn3UQbr3b9SysXIkSNZsmQJP//8MydOnKBBgwa8+uqrLFmyhHXr1nHNNdeccwro8owfP57XXnuN9evX8+yzz15wOqecmk7ak1NJlxsARCQQeB24GugEjBGRTqUOexqYZ4zpCYwG3nDO7eS87wwMB94QkUA30/SY/247RHGJ0fZ/pdRZwsPDGTJkCBMmTGDMmDEcO3aMOnXqEBERwcGDB083D53LwIEDWbBgASdPniQnJ4fPPvvs9L6cnByaNGlCYWEh77777untdevWJScn5xdptW/fnl27drF9+3YA5syZw6BBgzz0ScvmTg2gL7DdGJNqjCkA5gIjSx1jgHrO6whgn/N6JDDXGJNvjNkJbHfScydNj0lMySCiVjA9ml9Yr71SquYaM2YMa9euZcyYMXTv3p2ePXvSoUMHbr/9dvr373/ec3v16sVtt91G9+7dufrqq+nTp8/pfS+88AL9+vWjf//+Z3XYjh49mldeeYWePXuyY8eO09vDwsKYMWMGt9xyC127diUgIID777/f8x/YRbnTQYvIKGC4MeZe5/2dQD9jzMMuxzQBvgLqA3WAy40xySLyGrDCGPOOc9zbwKmQet40XdKeBEwCaNGiRe/du3dX+EO+sXQ7OXlF/H74xfeaK6U8Q6eDrhwVmQ7aU53AY4CZxpi/icilwBwR6eKJhI0xU4ApYNcDuJA0Hhzc1hNZUUqpGsWdAJAONHd5H+tsc3UPto0fY8yPIhIGRJdzbnlpKqWUqkTu9AGsAuJFJE5EQrCdugtLHbMHGAYgIh2BMCDTOW60iISKSBwQD6x0M02lVA1XnVYkrA4q+n2WWwMwxhSJyMPAYiAQmG6M2SgizwNJxpiFwBPAVBF5DNshPN7YnGwUkXnAJqAIeMgYUwxQVpoVyrlSqloLCwvj8OHDREVFISLezk61Z4zh8OHDhIW5/6yTX64JrJTyvsLCQtLS0i56fLw6IywsjNjYWIKDg8/aXtmdwEopVSHBwcHExcV5Oxt+zW/mAlJKKXU2DQBKKeWnNAAopZSfqladwCKSCVT8UWDfEg0c8nYmfIR+F2fT7+Ns+n2ccbHfRUtjzC9mw6xWAaAmEJGksnrj/ZF+F2fT7+Ns+n2cUVnfhTYBKaWUn9IAoJRSfkoDQNWb4u0M+BD9Ls6m38fZ9Ps4o1K+C+0DUEopP6U1AKWU8lMaAJRSyk9pAKgCItJcRBJFZJOIbBSRR7ydJ1/grA+9WkQ+93ZevE1EIkVkvohsEZHNzsJKfklEHnP+TjaIyPvO+iJ+Q0Smi0iGiGxw2dZARL4WkW3O7/qeuJYGgKpRBDxhjOkEXAI8JCKdvJwnX/AIsNnbmfAR/wS+NMZ0ALrjp9+LiDQDfgMkGGO6YKeLH+3dXFW5mTgLbLl4ClhijIkHljjvL5oGgCpgjNlvjPnZeZ2D/eNu5t1ceZeIxALXANO8nRdvE5EIYCDwNoAxpsAYk+XdXHlVEFBLRIKA2sA+L+enShljlgNHSm0eCcxyXs8CbvDEtTQAVDERaQX0BH7ybk687h/A74ASb2fEB8RhV9Cb4TSJTROROt7OlDcYY9KBV7GrDO4Hso0xX3k3Vz6hkTFmv/P6ANDIE4lqAKhCIhIOfAQ8aow55u38eIuIXAtkGGOSvZ0XHxEE9ALeNMb0BHLxUBW/unHatkdig2JToI6I3OHdXPkWZ7VFj4zf1wBQRUQkGFv4v2uM+djb+fGy/sD1IrILmAsMFZF3vJslr0oD0owxp2qF87EBwR9dDuw0xmQaYwqBj4HLvJwnX3BQRJoAOL8zPJGoBoAqIHbB07eBzcaY//N2frzNGDPZGBNrjGmF7eD71hjjt3d5xpgDwF4Rae9sGoZdtSNi2wAAAJ5JREFUR9sf7QEuEZHazt/NMPy0Q7yUhcA45/U44FNPJKoBoGr0B+7E3umucX5GeDtTyqf8GnhXRNYBPYC/eDk/XuHUguYDPwPrsWWUX00JISLvAz8C7UUkTUTuAV4GrhCRbdha0sseuZZOBaGUUv5JawBKKeWnNAAopZSf0gCglFJ+SgOAUkr5KQ0ASinlpzQAKKWUn9IAoJRSfur/A4YVMRNL6OfLAAAAAElFTkSuQmCC\n",
      "text/plain": [
       "<Figure size 432x288 with 1 Axes>"
      ]
     },
     "metadata": {
      "needs_background": "light"
     },
     "output_type": "display_data"
    },
    {
     "data": {
      "image/png": "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\n",
      "text/plain": [
       "<Figure size 432x288 with 1 Axes>"
      ]
     },
     "metadata": {
      "needs_background": "light"
     },
     "output_type": "display_data"
    }
   ],
   "source": [
    "history_plot(history)"
   ]
  },
  {
   "cell_type": "code",
   "execution_count": 47,
   "metadata": {},
   "outputs": [
    {
     "data": {
      "text/plain": [
       "0.9268749952316284"
      ]
     },
     "execution_count": 47,
     "metadata": {},
     "output_type": "execute_result"
    }
   ],
   "source": [
    "acc_stat(history)"
   ]
  },
  {
   "cell_type": "code",
   "execution_count": 48,
   "metadata": {},
   "outputs": [
    {
     "data": {
      "text/plain": [
       "0.13221397474774965"
      ]
     },
     "execution_count": 48,
     "metadata": {},
     "output_type": "execute_result"
    }
   ],
   "source": [
    "loss_stat(history)"
   ]
  }
 ],
 "metadata": {
  "kernelspec": {
   "display_name": "Python 3",
   "language": "python",
   "name": "python3"
  },
  "language_info": {
   "codemirror_mode": {
    "name": "ipython",
    "version": 3
   },
   "file_extension": ".py",
   "mimetype": "text/x-python",
   "name": "python",
   "nbconvert_exporter": "python",
   "pygments_lexer": "ipython3",
   "version": "3.8.2"
  }
 },
 "nbformat": 4,
 "nbformat_minor": 4
}
